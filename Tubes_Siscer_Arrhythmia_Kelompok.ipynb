{
  "cells": [
    {
      "cell_type": "markdown",
      "metadata": {
        "id": "wJs6p_9JOkyD"
      },
      "source": [
        "Anggota : -Fahmi Septiano Shesta (1303210170)\n",
        "          -Ricchie Eqinov Tandumay (1303210155)\n",
        "          -Moehamad Fitrah (1303213118)"
      ]
    },
    {
      "cell_type": "markdown",
      "metadata": {
        "id": "0YKOZmNzuQq_"
      },
      "source": [
        "# **1. Preprocessing Data**"
      ]
    },
    {
      "cell_type": "markdown",
      "metadata": {
        "id": "jv5nOlC9ebvm"
      },
      "source": [
        "Import library yang akan digunakan, menggunakan pandas, numpy, scipy, math dan seaborn\n",
        "lalu menggunakan sklearn, matplotlib dan juga warnings"
      ]
    },
    {
      "cell_type": "markdown",
      "metadata": {
        "id": "PyRc5rpZGHJJ"
      },
      "source": [
        "Menginstall lib scikit-plot untuk evaluasi dataset."
      ]
    },
    {
      "cell_type": "code",
      "execution_count": 8,
      "metadata": {
        "colab": {
          "base_uri": "https://localhost:8080/"
        },
        "id": "FEt8afEWGBDD",
        "outputId": "b2577cf0-0d2b-45f1-f2f0-a3fd43f205ae"
      },
      "outputs": [
        {
          "name": "stdout",
          "output_type": "stream",
          "text": [
            "Looking in indexes: https://pypi.org/simple, https://us-python.pkg.dev/colab-wheels/public/simple/\n",
            "Requirement already satisfied: scikit-plot in /usr/local/lib/python3.10/dist-packages (0.3.7)\n",
            "Requirement already satisfied: matplotlib>=1.4.0 in /usr/local/lib/python3.10/dist-packages (from scikit-plot) (3.7.1)\n",
            "Requirement already satisfied: scikit-learn>=0.18 in /usr/local/lib/python3.10/dist-packages (from scikit-plot) (1.2.2)\n",
            "Requirement already satisfied: scipy>=0.9 in /usr/local/lib/python3.10/dist-packages (from scikit-plot) (1.10.1)\n",
            "Requirement already satisfied: joblib>=0.10 in /usr/local/lib/python3.10/dist-packages (from scikit-plot) (1.2.0)\n",
            "Requirement already satisfied: contourpy>=1.0.1 in /usr/local/lib/python3.10/dist-packages (from matplotlib>=1.4.0->scikit-plot) (1.0.7)\n",
            "Requirement already satisfied: cycler>=0.10 in /usr/local/lib/python3.10/dist-packages (from matplotlib>=1.4.0->scikit-plot) (0.11.0)\n",
            "Requirement already satisfied: fonttools>=4.22.0 in /usr/local/lib/python3.10/dist-packages (from matplotlib>=1.4.0->scikit-plot) (4.39.3)\n",
            "Requirement already satisfied: kiwisolver>=1.0.1 in /usr/local/lib/python3.10/dist-packages (from matplotlib>=1.4.0->scikit-plot) (1.4.4)\n",
            "Requirement already satisfied: numpy>=1.20 in /usr/local/lib/python3.10/dist-packages (from matplotlib>=1.4.0->scikit-plot) (1.22.4)\n",
            "Requirement already satisfied: packaging>=20.0 in /usr/local/lib/python3.10/dist-packages (from matplotlib>=1.4.0->scikit-plot) (23.1)\n",
            "Requirement already satisfied: pillow>=6.2.0 in /usr/local/lib/python3.10/dist-packages (from matplotlib>=1.4.0->scikit-plot) (8.4.0)\n",
            "Requirement already satisfied: pyparsing>=2.3.1 in /usr/local/lib/python3.10/dist-packages (from matplotlib>=1.4.0->scikit-plot) (3.0.9)\n",
            "Requirement already satisfied: python-dateutil>=2.7 in /usr/local/lib/python3.10/dist-packages (from matplotlib>=1.4.0->scikit-plot) (2.8.2)\n",
            "Requirement already satisfied: threadpoolctl>=2.0.0 in /usr/local/lib/python3.10/dist-packages (from scikit-learn>=0.18->scikit-plot) (3.1.0)\n",
            "Requirement already satisfied: six>=1.5 in /usr/local/lib/python3.10/dist-packages (from python-dateutil>=2.7->matplotlib>=1.4.0->scikit-plot) (1.16.0)\n"
          ]
        }
      ],
      "source": [
        "!pip install scikit-plot"
      ]
    },
    {
      "cell_type": "code",
      "execution_count": 9,
      "metadata": {
        "id": "ygkLFLmKR3Tl"
      },
      "outputs": [],
      "source": [
        "#library dasar, pd,np,mat,sbrn untuk preprocessing, melihat outlier dan melihat kualitas data awal\n",
        "import pandas as pd\n",
        "import numpy as np\n",
        "import math as mat\n",
        "import seaborn as sbrn\n",
        "import matplotlib.pyplot as mpl\n",
        "%matplotlib inline \n",
        "#Tujuan dilakukannya %matplotlib inline adalah agar semua visualisasi yang nantinya ditampilkan, dapat langsung ditampilkan di colab/github ini.\n",
        "from sklearn.impute import SimpleImputer\n",
        "from sklearn.model_selection import train_test_split\n",
        "from sklearn.preprocessing import StandardScaler\n",
        "import warnings\n",
        "\n",
        "#bahan strategi\n",
        "from sklearn.metrics import r2_score,mean_squared_error,accuracy_score,recall_score,precision_score,confusion_matrix,classification_report\n",
        "from scikitplot.metrics import plot_confusion_matrix,plot_roc\n",
        "\n",
        "#untuk modeling, DT dan kNN menggunakan sklearn\n",
        "from sklearn.tree import DecisionTreeClassifier\n",
        "from sklearn.neighbors import KNeighborsClassifier"
      ]
    },
    {
      "cell_type": "markdown",
      "metadata": {
        "id": "qj5aAMiEep6M"
      },
      "source": [
        "Membaca datasetsnya, dengan var penampung yaitu df (dataframe)"
      ]
    },
    {
      "cell_type": "code",
      "execution_count": 10,
      "metadata": {
        "id": "tMA5ii1cerok"
      },
      "outputs": [],
      "source": [
        "df=pd.read_csv(\"datasets.csv\",header=None)"
      ]
    },
    {
      "cell_type": "markdown",
      "metadata": {
        "id": "Z8OlAJJMiPu6"
      },
      "source": [
        "Mengecek dataframe, head dan tail"
      ]
    },
    {
      "cell_type": "code",
      "execution_count": 11,
      "metadata": {
        "colab": {
          "base_uri": "https://localhost:8080/",
          "height": 235
        },
        "id": "cMkoFaJaiO2m",
        "outputId": "a5266866-dff6-4ee5-aed1-8b6b41817643"
      },
      "outputs": [
        {
          "data": {
            "text/html": [
              "\n",
              "  <div id=\"df-a3343d1e-eca6-4356-9fa8-6cef62b92543\">\n",
              "    <div class=\"colab-df-container\">\n",
              "      <div>\n",
              "<style scoped>\n",
              "    .dataframe tbody tr th:only-of-type {\n",
              "        vertical-align: middle;\n",
              "    }\n",
              "\n",
              "    .dataframe tbody tr th {\n",
              "        vertical-align: top;\n",
              "    }\n",
              "\n",
              "    .dataframe thead th {\n",
              "        text-align: right;\n",
              "    }\n",
              "</style>\n",
              "<table border=\"1\" class=\"dataframe\">\n",
              "  <thead>\n",
              "    <tr style=\"text-align: right;\">\n",
              "      <th></th>\n",
              "      <th>0</th>\n",
              "      <th>1</th>\n",
              "      <th>2</th>\n",
              "      <th>3</th>\n",
              "      <th>4</th>\n",
              "      <th>5</th>\n",
              "      <th>6</th>\n",
              "      <th>7</th>\n",
              "      <th>8</th>\n",
              "      <th>9</th>\n",
              "      <th>...</th>\n",
              "      <th>270</th>\n",
              "      <th>271</th>\n",
              "      <th>272</th>\n",
              "      <th>273</th>\n",
              "      <th>274</th>\n",
              "      <th>275</th>\n",
              "      <th>276</th>\n",
              "      <th>277</th>\n",
              "      <th>278</th>\n",
              "      <th>279</th>\n",
              "    </tr>\n",
              "  </thead>\n",
              "  <tbody>\n",
              "    <tr>\n",
              "      <th>0</th>\n",
              "      <td>75</td>\n",
              "      <td>0</td>\n",
              "      <td>190</td>\n",
              "      <td>80</td>\n",
              "      <td>91</td>\n",
              "      <td>193</td>\n",
              "      <td>371</td>\n",
              "      <td>174</td>\n",
              "      <td>121</td>\n",
              "      <td>-16</td>\n",
              "      <td>...</td>\n",
              "      <td>0.0</td>\n",
              "      <td>9.0</td>\n",
              "      <td>-0.9</td>\n",
              "      <td>0.0</td>\n",
              "      <td>0.0</td>\n",
              "      <td>0.9</td>\n",
              "      <td>2.9</td>\n",
              "      <td>23.3</td>\n",
              "      <td>49.4</td>\n",
              "      <td>8</td>\n",
              "    </tr>\n",
              "    <tr>\n",
              "      <th>1</th>\n",
              "      <td>56</td>\n",
              "      <td>1</td>\n",
              "      <td>165</td>\n",
              "      <td>64</td>\n",
              "      <td>81</td>\n",
              "      <td>174</td>\n",
              "      <td>401</td>\n",
              "      <td>149</td>\n",
              "      <td>39</td>\n",
              "      <td>25</td>\n",
              "      <td>...</td>\n",
              "      <td>0.0</td>\n",
              "      <td>8.5</td>\n",
              "      <td>0.0</td>\n",
              "      <td>0.0</td>\n",
              "      <td>0.0</td>\n",
              "      <td>0.2</td>\n",
              "      <td>2.1</td>\n",
              "      <td>20.4</td>\n",
              "      <td>38.8</td>\n",
              "      <td>6</td>\n",
              "    </tr>\n",
              "    <tr>\n",
              "      <th>2</th>\n",
              "      <td>54</td>\n",
              "      <td>0</td>\n",
              "      <td>172</td>\n",
              "      <td>95</td>\n",
              "      <td>138</td>\n",
              "      <td>163</td>\n",
              "      <td>386</td>\n",
              "      <td>185</td>\n",
              "      <td>102</td>\n",
              "      <td>96</td>\n",
              "      <td>...</td>\n",
              "      <td>0.0</td>\n",
              "      <td>9.5</td>\n",
              "      <td>-2.4</td>\n",
              "      <td>0.0</td>\n",
              "      <td>0.0</td>\n",
              "      <td>0.3</td>\n",
              "      <td>3.4</td>\n",
              "      <td>12.3</td>\n",
              "      <td>49.0</td>\n",
              "      <td>10</td>\n",
              "    </tr>\n",
              "    <tr>\n",
              "      <th>3</th>\n",
              "      <td>55</td>\n",
              "      <td>0</td>\n",
              "      <td>175</td>\n",
              "      <td>94</td>\n",
              "      <td>100</td>\n",
              "      <td>202</td>\n",
              "      <td>380</td>\n",
              "      <td>179</td>\n",
              "      <td>143</td>\n",
              "      <td>28</td>\n",
              "      <td>...</td>\n",
              "      <td>0.0</td>\n",
              "      <td>12.2</td>\n",
              "      <td>-2.2</td>\n",
              "      <td>0.0</td>\n",
              "      <td>0.0</td>\n",
              "      <td>0.4</td>\n",
              "      <td>2.6</td>\n",
              "      <td>34.6</td>\n",
              "      <td>61.6</td>\n",
              "      <td>1</td>\n",
              "    </tr>\n",
              "    <tr>\n",
              "      <th>4</th>\n",
              "      <td>75</td>\n",
              "      <td>0</td>\n",
              "      <td>190</td>\n",
              "      <td>80</td>\n",
              "      <td>88</td>\n",
              "      <td>181</td>\n",
              "      <td>360</td>\n",
              "      <td>177</td>\n",
              "      <td>103</td>\n",
              "      <td>-16</td>\n",
              "      <td>...</td>\n",
              "      <td>0.0</td>\n",
              "      <td>13.1</td>\n",
              "      <td>-3.6</td>\n",
              "      <td>0.0</td>\n",
              "      <td>0.0</td>\n",
              "      <td>-0.1</td>\n",
              "      <td>3.9</td>\n",
              "      <td>25.4</td>\n",
              "      <td>62.8</td>\n",
              "      <td>7</td>\n",
              "    </tr>\n",
              "  </tbody>\n",
              "</table>\n",
              "<p>5 rows × 280 columns</p>\n",
              "</div>\n",
              "      <button class=\"colab-df-convert\" onclick=\"convertToInteractive('df-a3343d1e-eca6-4356-9fa8-6cef62b92543')\"\n",
              "              title=\"Convert this dataframe to an interactive table.\"\n",
              "              style=\"display:none;\">\n",
              "        \n",
              "  <svg xmlns=\"http://www.w3.org/2000/svg\" height=\"24px\"viewBox=\"0 0 24 24\"\n",
              "       width=\"24px\">\n",
              "    <path d=\"M0 0h24v24H0V0z\" fill=\"none\"/>\n",
              "    <path d=\"M18.56 5.44l.94 2.06.94-2.06 2.06-.94-2.06-.94-.94-2.06-.94 2.06-2.06.94zm-11 1L8.5 8.5l.94-2.06 2.06-.94-2.06-.94L8.5 2.5l-.94 2.06-2.06.94zm10 10l.94 2.06.94-2.06 2.06-.94-2.06-.94-.94-2.06-.94 2.06-2.06.94z\"/><path d=\"M17.41 7.96l-1.37-1.37c-.4-.4-.92-.59-1.43-.59-.52 0-1.04.2-1.43.59L10.3 9.45l-7.72 7.72c-.78.78-.78 2.05 0 2.83L4 21.41c.39.39.9.59 1.41.59.51 0 1.02-.2 1.41-.59l7.78-7.78 2.81-2.81c.8-.78.8-2.07 0-2.86zM5.41 20L4 18.59l7.72-7.72 1.47 1.35L5.41 20z\"/>\n",
              "  </svg>\n",
              "      </button>\n",
              "      \n",
              "  <style>\n",
              "    .colab-df-container {\n",
              "      display:flex;\n",
              "      flex-wrap:wrap;\n",
              "      gap: 12px;\n",
              "    }\n",
              "\n",
              "    .colab-df-convert {\n",
              "      background-color: #E8F0FE;\n",
              "      border: none;\n",
              "      border-radius: 50%;\n",
              "      cursor: pointer;\n",
              "      display: none;\n",
              "      fill: #1967D2;\n",
              "      height: 32px;\n",
              "      padding: 0 0 0 0;\n",
              "      width: 32px;\n",
              "    }\n",
              "\n",
              "    .colab-df-convert:hover {\n",
              "      background-color: #E2EBFA;\n",
              "      box-shadow: 0px 1px 2px rgba(60, 64, 67, 0.3), 0px 1px 3px 1px rgba(60, 64, 67, 0.15);\n",
              "      fill: #174EA6;\n",
              "    }\n",
              "\n",
              "    [theme=dark] .colab-df-convert {\n",
              "      background-color: #3B4455;\n",
              "      fill: #D2E3FC;\n",
              "    }\n",
              "\n",
              "    [theme=dark] .colab-df-convert:hover {\n",
              "      background-color: #434B5C;\n",
              "      box-shadow: 0px 1px 3px 1px rgba(0, 0, 0, 0.15);\n",
              "      filter: drop-shadow(0px 1px 2px rgba(0, 0, 0, 0.3));\n",
              "      fill: #FFFFFF;\n",
              "    }\n",
              "  </style>\n",
              "\n",
              "      <script>\n",
              "        const buttonEl =\n",
              "          document.querySelector('#df-a3343d1e-eca6-4356-9fa8-6cef62b92543 button.colab-df-convert');\n",
              "        buttonEl.style.display =\n",
              "          google.colab.kernel.accessAllowed ? 'block' : 'none';\n",
              "\n",
              "        async function convertToInteractive(key) {\n",
              "          const element = document.querySelector('#df-a3343d1e-eca6-4356-9fa8-6cef62b92543');\n",
              "          const dataTable =\n",
              "            await google.colab.kernel.invokeFunction('convertToInteractive',\n",
              "                                                     [key], {});\n",
              "          if (!dataTable) return;\n",
              "\n",
              "          const docLinkHtml = 'Like what you see? Visit the ' +\n",
              "            '<a target=\"_blank\" href=https://colab.research.google.com/notebooks/data_table.ipynb>data table notebook</a>'\n",
              "            + ' to learn more about interactive tables.';\n",
              "          element.innerHTML = '';\n",
              "          dataTable['output_type'] = 'display_data';\n",
              "          await google.colab.output.renderOutput(dataTable, element);\n",
              "          const docLink = document.createElement('div');\n",
              "          docLink.innerHTML = docLinkHtml;\n",
              "          element.appendChild(docLink);\n",
              "        }\n",
              "      </script>\n",
              "    </div>\n",
              "  </div>\n",
              "  "
            ],
            "text/plain": [
              "   0    1    2    3    4    5    6    7    8    9    ...  270   271  272  273  \\\n",
              "0   75    0  190   80   91  193  371  174  121  -16  ...  0.0   9.0 -0.9  0.0   \n",
              "1   56    1  165   64   81  174  401  149   39   25  ...  0.0   8.5  0.0  0.0   \n",
              "2   54    0  172   95  138  163  386  185  102   96  ...  0.0   9.5 -2.4  0.0   \n",
              "3   55    0  175   94  100  202  380  179  143   28  ...  0.0  12.2 -2.2  0.0   \n",
              "4   75    0  190   80   88  181  360  177  103  -16  ...  0.0  13.1 -3.6  0.0   \n",
              "\n",
              "   274  275  276   277   278  279  \n",
              "0  0.0  0.9  2.9  23.3  49.4    8  \n",
              "1  0.0  0.2  2.1  20.4  38.8    6  \n",
              "2  0.0  0.3  3.4  12.3  49.0   10  \n",
              "3  0.0  0.4  2.6  34.6  61.6    1  \n",
              "4  0.0 -0.1  3.9  25.4  62.8    7  \n",
              "\n",
              "[5 rows x 280 columns]"
            ]
          },
          "execution_count": 11,
          "metadata": {},
          "output_type": "execute_result"
        }
      ],
      "source": [
        "df.head()"
      ]
    },
    {
      "cell_type": "code",
      "execution_count": 12,
      "metadata": {
        "colab": {
          "base_uri": "https://localhost:8080/",
          "height": 235
        },
        "id": "Yppk784KiXuI",
        "outputId": "573562f0-41b6-4ff5-8b27-a2637f9607e7"
      },
      "outputs": [
        {
          "data": {
            "text/html": [
              "\n",
              "  <div id=\"df-cdfcf8ce-e2d1-4dc1-a418-b95f5418da6a\">\n",
              "    <div class=\"colab-df-container\">\n",
              "      <div>\n",
              "<style scoped>\n",
              "    .dataframe tbody tr th:only-of-type {\n",
              "        vertical-align: middle;\n",
              "    }\n",
              "\n",
              "    .dataframe tbody tr th {\n",
              "        vertical-align: top;\n",
              "    }\n",
              "\n",
              "    .dataframe thead th {\n",
              "        text-align: right;\n",
              "    }\n",
              "</style>\n",
              "<table border=\"1\" class=\"dataframe\">\n",
              "  <thead>\n",
              "    <tr style=\"text-align: right;\">\n",
              "      <th></th>\n",
              "      <th>0</th>\n",
              "      <th>1</th>\n",
              "      <th>2</th>\n",
              "      <th>3</th>\n",
              "      <th>4</th>\n",
              "      <th>5</th>\n",
              "      <th>6</th>\n",
              "      <th>7</th>\n",
              "      <th>8</th>\n",
              "      <th>9</th>\n",
              "      <th>...</th>\n",
              "      <th>270</th>\n",
              "      <th>271</th>\n",
              "      <th>272</th>\n",
              "      <th>273</th>\n",
              "      <th>274</th>\n",
              "      <th>275</th>\n",
              "      <th>276</th>\n",
              "      <th>277</th>\n",
              "      <th>278</th>\n",
              "      <th>279</th>\n",
              "    </tr>\n",
              "  </thead>\n",
              "  <tbody>\n",
              "    <tr>\n",
              "      <th>447</th>\n",
              "      <td>53</td>\n",
              "      <td>1</td>\n",
              "      <td>160</td>\n",
              "      <td>70</td>\n",
              "      <td>80</td>\n",
              "      <td>199</td>\n",
              "      <td>382</td>\n",
              "      <td>154</td>\n",
              "      <td>117</td>\n",
              "      <td>-37</td>\n",
              "      <td>...</td>\n",
              "      <td>0.0</td>\n",
              "      <td>4.3</td>\n",
              "      <td>-5.0</td>\n",
              "      <td>0.0</td>\n",
              "      <td>0.0</td>\n",
              "      <td>0.7</td>\n",
              "      <td>0.6</td>\n",
              "      <td>-4.4</td>\n",
              "      <td>-0.5</td>\n",
              "      <td>1</td>\n",
              "    </tr>\n",
              "    <tr>\n",
              "      <th>448</th>\n",
              "      <td>37</td>\n",
              "      <td>0</td>\n",
              "      <td>190</td>\n",
              "      <td>85</td>\n",
              "      <td>100</td>\n",
              "      <td>137</td>\n",
              "      <td>361</td>\n",
              "      <td>201</td>\n",
              "      <td>73</td>\n",
              "      <td>86</td>\n",
              "      <td>...</td>\n",
              "      <td>0.0</td>\n",
              "      <td>15.6</td>\n",
              "      <td>-1.6</td>\n",
              "      <td>0.0</td>\n",
              "      <td>0.0</td>\n",
              "      <td>0.4</td>\n",
              "      <td>2.4</td>\n",
              "      <td>38.0</td>\n",
              "      <td>62.4</td>\n",
              "      <td>10</td>\n",
              "    </tr>\n",
              "    <tr>\n",
              "      <th>449</th>\n",
              "      <td>36</td>\n",
              "      <td>0</td>\n",
              "      <td>166</td>\n",
              "      <td>68</td>\n",
              "      <td>108</td>\n",
              "      <td>176</td>\n",
              "      <td>365</td>\n",
              "      <td>194</td>\n",
              "      <td>116</td>\n",
              "      <td>-85</td>\n",
              "      <td>...</td>\n",
              "      <td>0.0</td>\n",
              "      <td>16.3</td>\n",
              "      <td>-28.6</td>\n",
              "      <td>0.0</td>\n",
              "      <td>0.0</td>\n",
              "      <td>1.5</td>\n",
              "      <td>1.0</td>\n",
              "      <td>-44.2</td>\n",
              "      <td>-33.2</td>\n",
              "      <td>2</td>\n",
              "    </tr>\n",
              "    <tr>\n",
              "      <th>450</th>\n",
              "      <td>32</td>\n",
              "      <td>1</td>\n",
              "      <td>155</td>\n",
              "      <td>55</td>\n",
              "      <td>93</td>\n",
              "      <td>106</td>\n",
              "      <td>386</td>\n",
              "      <td>218</td>\n",
              "      <td>63</td>\n",
              "      <td>54</td>\n",
              "      <td>...</td>\n",
              "      <td>-0.4</td>\n",
              "      <td>12.0</td>\n",
              "      <td>-0.7</td>\n",
              "      <td>0.0</td>\n",
              "      <td>0.0</td>\n",
              "      <td>0.5</td>\n",
              "      <td>2.4</td>\n",
              "      <td>25.0</td>\n",
              "      <td>46.6</td>\n",
              "      <td>1</td>\n",
              "    </tr>\n",
              "    <tr>\n",
              "      <th>451</th>\n",
              "      <td>78</td>\n",
              "      <td>1</td>\n",
              "      <td>160</td>\n",
              "      <td>70</td>\n",
              "      <td>79</td>\n",
              "      <td>127</td>\n",
              "      <td>364</td>\n",
              "      <td>138</td>\n",
              "      <td>78</td>\n",
              "      <td>28</td>\n",
              "      <td>...</td>\n",
              "      <td>0.0</td>\n",
              "      <td>10.4</td>\n",
              "      <td>-1.8</td>\n",
              "      <td>0.0</td>\n",
              "      <td>0.0</td>\n",
              "      <td>0.5</td>\n",
              "      <td>1.6</td>\n",
              "      <td>21.3</td>\n",
              "      <td>32.8</td>\n",
              "      <td>1</td>\n",
              "    </tr>\n",
              "  </tbody>\n",
              "</table>\n",
              "<p>5 rows × 280 columns</p>\n",
              "</div>\n",
              "      <button class=\"colab-df-convert\" onclick=\"convertToInteractive('df-cdfcf8ce-e2d1-4dc1-a418-b95f5418da6a')\"\n",
              "              title=\"Convert this dataframe to an interactive table.\"\n",
              "              style=\"display:none;\">\n",
              "        \n",
              "  <svg xmlns=\"http://www.w3.org/2000/svg\" height=\"24px\"viewBox=\"0 0 24 24\"\n",
              "       width=\"24px\">\n",
              "    <path d=\"M0 0h24v24H0V0z\" fill=\"none\"/>\n",
              "    <path d=\"M18.56 5.44l.94 2.06.94-2.06 2.06-.94-2.06-.94-.94-2.06-.94 2.06-2.06.94zm-11 1L8.5 8.5l.94-2.06 2.06-.94-2.06-.94L8.5 2.5l-.94 2.06-2.06.94zm10 10l.94 2.06.94-2.06 2.06-.94-2.06-.94-.94-2.06-.94 2.06-2.06.94z\"/><path d=\"M17.41 7.96l-1.37-1.37c-.4-.4-.92-.59-1.43-.59-.52 0-1.04.2-1.43.59L10.3 9.45l-7.72 7.72c-.78.78-.78 2.05 0 2.83L4 21.41c.39.39.9.59 1.41.59.51 0 1.02-.2 1.41-.59l7.78-7.78 2.81-2.81c.8-.78.8-2.07 0-2.86zM5.41 20L4 18.59l7.72-7.72 1.47 1.35L5.41 20z\"/>\n",
              "  </svg>\n",
              "      </button>\n",
              "      \n",
              "  <style>\n",
              "    .colab-df-container {\n",
              "      display:flex;\n",
              "      flex-wrap:wrap;\n",
              "      gap: 12px;\n",
              "    }\n",
              "\n",
              "    .colab-df-convert {\n",
              "      background-color: #E8F0FE;\n",
              "      border: none;\n",
              "      border-radius: 50%;\n",
              "      cursor: pointer;\n",
              "      display: none;\n",
              "      fill: #1967D2;\n",
              "      height: 32px;\n",
              "      padding: 0 0 0 0;\n",
              "      width: 32px;\n",
              "    }\n",
              "\n",
              "    .colab-df-convert:hover {\n",
              "      background-color: #E2EBFA;\n",
              "      box-shadow: 0px 1px 2px rgba(60, 64, 67, 0.3), 0px 1px 3px 1px rgba(60, 64, 67, 0.15);\n",
              "      fill: #174EA6;\n",
              "    }\n",
              "\n",
              "    [theme=dark] .colab-df-convert {\n",
              "      background-color: #3B4455;\n",
              "      fill: #D2E3FC;\n",
              "    }\n",
              "\n",
              "    [theme=dark] .colab-df-convert:hover {\n",
              "      background-color: #434B5C;\n",
              "      box-shadow: 0px 1px 3px 1px rgba(0, 0, 0, 0.15);\n",
              "      filter: drop-shadow(0px 1px 2px rgba(0, 0, 0, 0.3));\n",
              "      fill: #FFFFFF;\n",
              "    }\n",
              "  </style>\n",
              "\n",
              "      <script>\n",
              "        const buttonEl =\n",
              "          document.querySelector('#df-cdfcf8ce-e2d1-4dc1-a418-b95f5418da6a button.colab-df-convert');\n",
              "        buttonEl.style.display =\n",
              "          google.colab.kernel.accessAllowed ? 'block' : 'none';\n",
              "\n",
              "        async function convertToInteractive(key) {\n",
              "          const element = document.querySelector('#df-cdfcf8ce-e2d1-4dc1-a418-b95f5418da6a');\n",
              "          const dataTable =\n",
              "            await google.colab.kernel.invokeFunction('convertToInteractive',\n",
              "                                                     [key], {});\n",
              "          if (!dataTable) return;\n",
              "\n",
              "          const docLinkHtml = 'Like what you see? Visit the ' +\n",
              "            '<a target=\"_blank\" href=https://colab.research.google.com/notebooks/data_table.ipynb>data table notebook</a>'\n",
              "            + ' to learn more about interactive tables.';\n",
              "          element.innerHTML = '';\n",
              "          dataTable['output_type'] = 'display_data';\n",
              "          await google.colab.output.renderOutput(dataTable, element);\n",
              "          const docLink = document.createElement('div');\n",
              "          docLink.innerHTML = docLinkHtml;\n",
              "          element.appendChild(docLink);\n",
              "        }\n",
              "      </script>\n",
              "    </div>\n",
              "  </div>\n",
              "  "
            ],
            "text/plain": [
              "     0    1    2    3    4    5    6    7    8    9    ...  270   271   272  \\\n",
              "447   53    1  160   70   80  199  382  154  117  -37  ...  0.0   4.3  -5.0   \n",
              "448   37    0  190   85  100  137  361  201   73   86  ...  0.0  15.6  -1.6   \n",
              "449   36    0  166   68  108  176  365  194  116  -85  ...  0.0  16.3 -28.6   \n",
              "450   32    1  155   55   93  106  386  218   63   54  ... -0.4  12.0  -0.7   \n",
              "451   78    1  160   70   79  127  364  138   78   28  ...  0.0  10.4  -1.8   \n",
              "\n",
              "     273  274  275  276   277   278  279  \n",
              "447  0.0  0.0  0.7  0.6  -4.4  -0.5    1  \n",
              "448  0.0  0.0  0.4  2.4  38.0  62.4   10  \n",
              "449  0.0  0.0  1.5  1.0 -44.2 -33.2    2  \n",
              "450  0.0  0.0  0.5  2.4  25.0  46.6    1  \n",
              "451  0.0  0.0  0.5  1.6  21.3  32.8    1  \n",
              "\n",
              "[5 rows x 280 columns]"
            ]
          },
          "execution_count": 12,
          "metadata": {},
          "output_type": "execute_result"
        }
      ],
      "source": [
        "df.tail()"
      ]
    },
    {
      "cell_type": "code",
      "execution_count": 13,
      "metadata": {
        "colab": {
          "base_uri": "https://localhost:8080/"
        },
        "id": "jl4K4OwCialy",
        "outputId": "02dc794e-1d90-4c28-f9ec-ba088027d06f"
      },
      "outputs": [
        {
          "data": {
            "text/plain": [
              "(452, 280)"
            ]
          },
          "execution_count": 13,
          "metadata": {},
          "output_type": "execute_result"
        }
      ],
      "source": [
        "df.shape"
      ]
    },
    {
      "cell_type": "code",
      "execution_count": 14,
      "metadata": {
        "colab": {
          "base_uri": "https://localhost:8080/"
        },
        "id": "GwQcDKkxiczt",
        "outputId": "da8bf8a3-bfbb-437c-c11b-fe72add19f80"
      },
      "outputs": [
        {
          "name": "stdout",
          "output_type": "stream",
          "text": [
            "<class 'pandas.core.frame.DataFrame'>\n",
            "RangeIndex: 452 entries, 0 to 451\n",
            "Columns: 280 entries, 0 to 279\n",
            "dtypes: float64(120), int64(155), object(5)\n",
            "memory usage: 988.9+ KB\n"
          ]
        }
      ],
      "source": [
        "df.info()"
      ]
    },
    {
      "cell_type": "code",
      "execution_count": 15,
      "metadata": {
        "colab": {
          "base_uri": "https://localhost:8080/",
          "height": 393
        },
        "id": "-ZTW3rkEii-f",
        "outputId": "f0c4165c-1b32-44e1-97f4-fb40f4e9528a"
      },
      "outputs": [
        {
          "data": {
            "text/html": [
              "\n",
              "  <div id=\"df-9f7c1565-5b34-415b-b884-04479e177149\">\n",
              "    <div class=\"colab-df-container\">\n",
              "      <div>\n",
              "<style scoped>\n",
              "    .dataframe tbody tr th:only-of-type {\n",
              "        vertical-align: middle;\n",
              "    }\n",
              "\n",
              "    .dataframe tbody tr th {\n",
              "        vertical-align: top;\n",
              "    }\n",
              "\n",
              "    .dataframe thead th {\n",
              "        text-align: right;\n",
              "    }\n",
              "</style>\n",
              "<table border=\"1\" class=\"dataframe\">\n",
              "  <thead>\n",
              "    <tr style=\"text-align: right;\">\n",
              "      <th></th>\n",
              "      <th>0</th>\n",
              "      <th>1</th>\n",
              "      <th>2</th>\n",
              "      <th>3</th>\n",
              "      <th>4</th>\n",
              "      <th>5</th>\n",
              "      <th>6</th>\n",
              "      <th>7</th>\n",
              "      <th>8</th>\n",
              "      <th>9</th>\n",
              "      <th>...</th>\n",
              "      <th>270</th>\n",
              "      <th>271</th>\n",
              "      <th>272</th>\n",
              "      <th>273</th>\n",
              "      <th>274</th>\n",
              "      <th>275</th>\n",
              "      <th>276</th>\n",
              "      <th>277</th>\n",
              "      <th>278</th>\n",
              "      <th>279</th>\n",
              "    </tr>\n",
              "  </thead>\n",
              "  <tbody>\n",
              "    <tr>\n",
              "      <th>count</th>\n",
              "      <td>452.000000</td>\n",
              "      <td>452.000000</td>\n",
              "      <td>452.000000</td>\n",
              "      <td>452.000000</td>\n",
              "      <td>452.000000</td>\n",
              "      <td>452.000000</td>\n",
              "      <td>452.000000</td>\n",
              "      <td>452.000000</td>\n",
              "      <td>452.000000</td>\n",
              "      <td>452.000000</td>\n",
              "      <td>...</td>\n",
              "      <td>452.000000</td>\n",
              "      <td>452.000000</td>\n",
              "      <td>452.000000</td>\n",
              "      <td>452.000000</td>\n",
              "      <td>452.0</td>\n",
              "      <td>452.000000</td>\n",
              "      <td>452.000000</td>\n",
              "      <td>452.000000</td>\n",
              "      <td>452.000000</td>\n",
              "      <td>452.000000</td>\n",
              "    </tr>\n",
              "    <tr>\n",
              "      <th>mean</th>\n",
              "      <td>46.471239</td>\n",
              "      <td>0.550885</td>\n",
              "      <td>166.188053</td>\n",
              "      <td>68.170354</td>\n",
              "      <td>88.920354</td>\n",
              "      <td>155.152655</td>\n",
              "      <td>367.207965</td>\n",
              "      <td>169.949115</td>\n",
              "      <td>90.004425</td>\n",
              "      <td>33.676991</td>\n",
              "      <td>...</td>\n",
              "      <td>-0.278982</td>\n",
              "      <td>9.048009</td>\n",
              "      <td>-1.457301</td>\n",
              "      <td>0.003982</td>\n",
              "      <td>0.0</td>\n",
              "      <td>0.514823</td>\n",
              "      <td>1.222345</td>\n",
              "      <td>19.326106</td>\n",
              "      <td>29.473230</td>\n",
              "      <td>3.880531</td>\n",
              "    </tr>\n",
              "    <tr>\n",
              "      <th>std</th>\n",
              "      <td>16.466631</td>\n",
              "      <td>0.497955</td>\n",
              "      <td>37.170340</td>\n",
              "      <td>16.590803</td>\n",
              "      <td>15.364394</td>\n",
              "      <td>44.842283</td>\n",
              "      <td>33.385421</td>\n",
              "      <td>35.633072</td>\n",
              "      <td>25.826643</td>\n",
              "      <td>45.431434</td>\n",
              "      <td>...</td>\n",
              "      <td>0.548876</td>\n",
              "      <td>3.472862</td>\n",
              "      <td>2.002430</td>\n",
              "      <td>0.050118</td>\n",
              "      <td>0.0</td>\n",
              "      <td>0.347531</td>\n",
              "      <td>1.426052</td>\n",
              "      <td>13.503922</td>\n",
              "      <td>18.493927</td>\n",
              "      <td>4.407097</td>\n",
              "    </tr>\n",
              "    <tr>\n",
              "      <th>min</th>\n",
              "      <td>0.000000</td>\n",
              "      <td>0.000000</td>\n",
              "      <td>105.000000</td>\n",
              "      <td>6.000000</td>\n",
              "      <td>55.000000</td>\n",
              "      <td>0.000000</td>\n",
              "      <td>232.000000</td>\n",
              "      <td>108.000000</td>\n",
              "      <td>0.000000</td>\n",
              "      <td>-172.000000</td>\n",
              "      <td>...</td>\n",
              "      <td>-4.100000</td>\n",
              "      <td>0.000000</td>\n",
              "      <td>-28.600000</td>\n",
              "      <td>0.000000</td>\n",
              "      <td>0.0</td>\n",
              "      <td>-0.800000</td>\n",
              "      <td>-6.000000</td>\n",
              "      <td>-44.200000</td>\n",
              "      <td>-38.600000</td>\n",
              "      <td>1.000000</td>\n",
              "    </tr>\n",
              "    <tr>\n",
              "      <th>25%</th>\n",
              "      <td>36.000000</td>\n",
              "      <td>0.000000</td>\n",
              "      <td>160.000000</td>\n",
              "      <td>59.000000</td>\n",
              "      <td>80.000000</td>\n",
              "      <td>142.000000</td>\n",
              "      <td>350.000000</td>\n",
              "      <td>148.000000</td>\n",
              "      <td>79.000000</td>\n",
              "      <td>3.750000</td>\n",
              "      <td>...</td>\n",
              "      <td>-0.425000</td>\n",
              "      <td>6.600000</td>\n",
              "      <td>-2.100000</td>\n",
              "      <td>0.000000</td>\n",
              "      <td>0.0</td>\n",
              "      <td>0.400000</td>\n",
              "      <td>0.500000</td>\n",
              "      <td>11.450000</td>\n",
              "      <td>17.550000</td>\n",
              "      <td>1.000000</td>\n",
              "    </tr>\n",
              "    <tr>\n",
              "      <th>50%</th>\n",
              "      <td>47.000000</td>\n",
              "      <td>1.000000</td>\n",
              "      <td>164.000000</td>\n",
              "      <td>68.000000</td>\n",
              "      <td>86.000000</td>\n",
              "      <td>157.000000</td>\n",
              "      <td>367.000000</td>\n",
              "      <td>162.000000</td>\n",
              "      <td>91.000000</td>\n",
              "      <td>40.000000</td>\n",
              "      <td>...</td>\n",
              "      <td>0.000000</td>\n",
              "      <td>8.800000</td>\n",
              "      <td>-1.100000</td>\n",
              "      <td>0.000000</td>\n",
              "      <td>0.0</td>\n",
              "      <td>0.500000</td>\n",
              "      <td>1.350000</td>\n",
              "      <td>18.100000</td>\n",
              "      <td>27.900000</td>\n",
              "      <td>1.000000</td>\n",
              "    </tr>\n",
              "    <tr>\n",
              "      <th>75%</th>\n",
              "      <td>58.000000</td>\n",
              "      <td>1.000000</td>\n",
              "      <td>170.000000</td>\n",
              "      <td>79.000000</td>\n",
              "      <td>94.000000</td>\n",
              "      <td>175.000000</td>\n",
              "      <td>384.000000</td>\n",
              "      <td>179.000000</td>\n",
              "      <td>102.000000</td>\n",
              "      <td>66.000000</td>\n",
              "      <td>...</td>\n",
              "      <td>0.000000</td>\n",
              "      <td>11.200000</td>\n",
              "      <td>0.000000</td>\n",
              "      <td>0.000000</td>\n",
              "      <td>0.0</td>\n",
              "      <td>0.700000</td>\n",
              "      <td>2.100000</td>\n",
              "      <td>25.825000</td>\n",
              "      <td>41.125000</td>\n",
              "      <td>6.000000</td>\n",
              "    </tr>\n",
              "    <tr>\n",
              "      <th>max</th>\n",
              "      <td>83.000000</td>\n",
              "      <td>1.000000</td>\n",
              "      <td>780.000000</td>\n",
              "      <td>176.000000</td>\n",
              "      <td>188.000000</td>\n",
              "      <td>524.000000</td>\n",
              "      <td>509.000000</td>\n",
              "      <td>381.000000</td>\n",
              "      <td>205.000000</td>\n",
              "      <td>169.000000</td>\n",
              "      <td>...</td>\n",
              "      <td>0.000000</td>\n",
              "      <td>23.600000</td>\n",
              "      <td>0.000000</td>\n",
              "      <td>0.800000</td>\n",
              "      <td>0.0</td>\n",
              "      <td>2.400000</td>\n",
              "      <td>6.000000</td>\n",
              "      <td>88.800000</td>\n",
              "      <td>115.900000</td>\n",
              "      <td>16.000000</td>\n",
              "    </tr>\n",
              "  </tbody>\n",
              "</table>\n",
              "<p>8 rows × 275 columns</p>\n",
              "</div>\n",
              "      <button class=\"colab-df-convert\" onclick=\"convertToInteractive('df-9f7c1565-5b34-415b-b884-04479e177149')\"\n",
              "              title=\"Convert this dataframe to an interactive table.\"\n",
              "              style=\"display:none;\">\n",
              "        \n",
              "  <svg xmlns=\"http://www.w3.org/2000/svg\" height=\"24px\"viewBox=\"0 0 24 24\"\n",
              "       width=\"24px\">\n",
              "    <path d=\"M0 0h24v24H0V0z\" fill=\"none\"/>\n",
              "    <path d=\"M18.56 5.44l.94 2.06.94-2.06 2.06-.94-2.06-.94-.94-2.06-.94 2.06-2.06.94zm-11 1L8.5 8.5l.94-2.06 2.06-.94-2.06-.94L8.5 2.5l-.94 2.06-2.06.94zm10 10l.94 2.06.94-2.06 2.06-.94-2.06-.94-.94-2.06-.94 2.06-2.06.94z\"/><path d=\"M17.41 7.96l-1.37-1.37c-.4-.4-.92-.59-1.43-.59-.52 0-1.04.2-1.43.59L10.3 9.45l-7.72 7.72c-.78.78-.78 2.05 0 2.83L4 21.41c.39.39.9.59 1.41.59.51 0 1.02-.2 1.41-.59l7.78-7.78 2.81-2.81c.8-.78.8-2.07 0-2.86zM5.41 20L4 18.59l7.72-7.72 1.47 1.35L5.41 20z\"/>\n",
              "  </svg>\n",
              "      </button>\n",
              "      \n",
              "  <style>\n",
              "    .colab-df-container {\n",
              "      display:flex;\n",
              "      flex-wrap:wrap;\n",
              "      gap: 12px;\n",
              "    }\n",
              "\n",
              "    .colab-df-convert {\n",
              "      background-color: #E8F0FE;\n",
              "      border: none;\n",
              "      border-radius: 50%;\n",
              "      cursor: pointer;\n",
              "      display: none;\n",
              "      fill: #1967D2;\n",
              "      height: 32px;\n",
              "      padding: 0 0 0 0;\n",
              "      width: 32px;\n",
              "    }\n",
              "\n",
              "    .colab-df-convert:hover {\n",
              "      background-color: #E2EBFA;\n",
              "      box-shadow: 0px 1px 2px rgba(60, 64, 67, 0.3), 0px 1px 3px 1px rgba(60, 64, 67, 0.15);\n",
              "      fill: #174EA6;\n",
              "    }\n",
              "\n",
              "    [theme=dark] .colab-df-convert {\n",
              "      background-color: #3B4455;\n",
              "      fill: #D2E3FC;\n",
              "    }\n",
              "\n",
              "    [theme=dark] .colab-df-convert:hover {\n",
              "      background-color: #434B5C;\n",
              "      box-shadow: 0px 1px 3px 1px rgba(0, 0, 0, 0.15);\n",
              "      filter: drop-shadow(0px 1px 2px rgba(0, 0, 0, 0.3));\n",
              "      fill: #FFFFFF;\n",
              "    }\n",
              "  </style>\n",
              "\n",
              "      <script>\n",
              "        const buttonEl =\n",
              "          document.querySelector('#df-9f7c1565-5b34-415b-b884-04479e177149 button.colab-df-convert');\n",
              "        buttonEl.style.display =\n",
              "          google.colab.kernel.accessAllowed ? 'block' : 'none';\n",
              "\n",
              "        async function convertToInteractive(key) {\n",
              "          const element = document.querySelector('#df-9f7c1565-5b34-415b-b884-04479e177149');\n",
              "          const dataTable =\n",
              "            await google.colab.kernel.invokeFunction('convertToInteractive',\n",
              "                                                     [key], {});\n",
              "          if (!dataTable) return;\n",
              "\n",
              "          const docLinkHtml = 'Like what you see? Visit the ' +\n",
              "            '<a target=\"_blank\" href=https://colab.research.google.com/notebooks/data_table.ipynb>data table notebook</a>'\n",
              "            + ' to learn more about interactive tables.';\n",
              "          element.innerHTML = '';\n",
              "          dataTable['output_type'] = 'display_data';\n",
              "          await google.colab.output.renderOutput(dataTable, element);\n",
              "          const docLink = document.createElement('div');\n",
              "          docLink.innerHTML = docLinkHtml;\n",
              "          element.appendChild(docLink);\n",
              "        }\n",
              "      </script>\n",
              "    </div>\n",
              "  </div>\n",
              "  "
            ],
            "text/plain": [
              "              0           1           2           3           4           5    \\\n",
              "count  452.000000  452.000000  452.000000  452.000000  452.000000  452.000000   \n",
              "mean    46.471239    0.550885  166.188053   68.170354   88.920354  155.152655   \n",
              "std     16.466631    0.497955   37.170340   16.590803   15.364394   44.842283   \n",
              "min      0.000000    0.000000  105.000000    6.000000   55.000000    0.000000   \n",
              "25%     36.000000    0.000000  160.000000   59.000000   80.000000  142.000000   \n",
              "50%     47.000000    1.000000  164.000000   68.000000   86.000000  157.000000   \n",
              "75%     58.000000    1.000000  170.000000   79.000000   94.000000  175.000000   \n",
              "max     83.000000    1.000000  780.000000  176.000000  188.000000  524.000000   \n",
              "\n",
              "              6           7           8           9    ...         270  \\\n",
              "count  452.000000  452.000000  452.000000  452.000000  ...  452.000000   \n",
              "mean   367.207965  169.949115   90.004425   33.676991  ...   -0.278982   \n",
              "std     33.385421   35.633072   25.826643   45.431434  ...    0.548876   \n",
              "min    232.000000  108.000000    0.000000 -172.000000  ...   -4.100000   \n",
              "25%    350.000000  148.000000   79.000000    3.750000  ...   -0.425000   \n",
              "50%    367.000000  162.000000   91.000000   40.000000  ...    0.000000   \n",
              "75%    384.000000  179.000000  102.000000   66.000000  ...    0.000000   \n",
              "max    509.000000  381.000000  205.000000  169.000000  ...    0.000000   \n",
              "\n",
              "              271         272         273    274         275         276  \\\n",
              "count  452.000000  452.000000  452.000000  452.0  452.000000  452.000000   \n",
              "mean     9.048009   -1.457301    0.003982    0.0    0.514823    1.222345   \n",
              "std      3.472862    2.002430    0.050118    0.0    0.347531    1.426052   \n",
              "min      0.000000  -28.600000    0.000000    0.0   -0.800000   -6.000000   \n",
              "25%      6.600000   -2.100000    0.000000    0.0    0.400000    0.500000   \n",
              "50%      8.800000   -1.100000    0.000000    0.0    0.500000    1.350000   \n",
              "75%     11.200000    0.000000    0.000000    0.0    0.700000    2.100000   \n",
              "max     23.600000    0.000000    0.800000    0.0    2.400000    6.000000   \n",
              "\n",
              "              277         278         279  \n",
              "count  452.000000  452.000000  452.000000  \n",
              "mean    19.326106   29.473230    3.880531  \n",
              "std     13.503922   18.493927    4.407097  \n",
              "min    -44.200000  -38.600000    1.000000  \n",
              "25%     11.450000   17.550000    1.000000  \n",
              "50%     18.100000   27.900000    1.000000  \n",
              "75%     25.825000   41.125000    6.000000  \n",
              "max     88.800000  115.900000   16.000000  \n",
              "\n",
              "[8 rows x 275 columns]"
            ]
          },
          "execution_count": 15,
          "metadata": {},
          "output_type": "execute_result"
        }
      ],
      "source": [
        "df.describe()"
      ]
    },
    {
      "cell_type": "markdown",
      "metadata": {
        "id": "_WR3Rp3akdXs"
      },
      "source": [
        "Disini kita melakukan df.info() untuk memeriksa metadata yang tersedia, dan df.describe() untuk melihat kualitas data dengan melihat count, mean, std.dev, min data, 1/4,2/4,dan 3/4 lalu max data. "
      ]
    },
    {
      "cell_type": "markdown",
      "metadata": {
        "id": "V036h7i9ioUi"
      },
      "source": [
        "Check untuk NULL values"
      ]
    },
    {
      "cell_type": "code",
      "execution_count": 16,
      "metadata": {
        "colab": {
          "base_uri": "https://localhost:8080/"
        },
        "id": "qw2dYeNSip9t",
        "outputId": "0a7e999c-1671-46ca-9b58-f651e0f8ab40"
      },
      "outputs": [
        {
          "data": {
            "text/plain": [
              "0"
            ]
          },
          "execution_count": 16,
          "metadata": {},
          "output_type": "execute_result"
        }
      ],
      "source": [
        "pd.isnull(df).sum().sum()"
      ]
    },
    {
      "cell_type": "markdown",
      "metadata": {
        "id": "cKcBZ4eBfiUq"
      },
      "source": [
        "Melakukan replace terhadap value yang bernilai '?' dengan NaN (NULL), agar lebih mudah diproses"
      ]
    },
    {
      "cell_type": "code",
      "execution_count": 17,
      "metadata": {
        "id": "AilrDzteiwsr"
      },
      "outputs": [],
      "source": [
        "df = df.replace('?', np.NaN)"
      ]
    },
    {
      "cell_type": "markdown",
      "metadata": {
        "id": "Hn__JC_-fxrP"
      },
      "source": [
        "Menghitung yang bernilai null pada dataset (yang sebelumnya '?' diproses)"
      ]
    },
    {
      "cell_type": "code",
      "execution_count": 18,
      "metadata": {
        "colab": {
          "base_uri": "https://localhost:8080/"
        },
        "id": "TQL0yCQBitHy",
        "outputId": "4ec34fdc-3331-4be8-e249-28a88429f402"
      },
      "outputs": [
        {
          "data": {
            "text/plain": [
              "408"
            ]
          },
          "execution_count": 18,
          "metadata": {},
          "output_type": "execute_result"
        }
      ],
      "source": [
        "nullval=pd.isnull(df).sum().sum()\n",
        "nullval"
      ]
    },
    {
      "cell_type": "markdown",
      "metadata": {
        "id": "0CPxrw3qi3oM"
      },
      "source": [
        "Visualisasi distribusi data, mengecek dimana data yang kira-kira banyak memiliki value NULL\n"
      ]
    },
    {
      "cell_type": "code",
      "execution_count": 19,
      "metadata": {
        "colab": {
          "base_uri": "https://localhost:8080/",
          "height": 467
        },
        "id": "qeo0eTmMi058",
        "outputId": "c6ebacdb-f73e-4644-b099-9d9d4e56ea88"
      },
      "outputs": [
        {
          "data": {
            "text/plain": [
              "Text(0, 0.5, 'Total nilai yang memiliki NULL dari kolom tersebut')"
            ]
          },
          "execution_count": 19,
          "metadata": {},
          "output_type": "execute_result"
        },
        {
          "data": {
            "image/png": "[encoded data removed]",
            "text/plain": [
              "<Figure size 640x480 with 1 Axes>"
            ]
          },
          "metadata": {},
          "output_type": "display_data"
        }
      ],
      "source": [
        "pd.isnull(df).sum().plot()\n",
        "mpl.xlabel('Nomor Kolom')\n",
        "mpl.ylabel('Total nilai yang memiliki NULL dari kolom tersebut')"
      ]
    },
    {
      "cell_type": "markdown",
      "metadata": {
        "id": "nTr-fSwMi9Ox"
      },
      "source": [
        "Zoom in terhadap visualisasi"
      ]
    },
    {
      "cell_type": "code",
      "execution_count": 20,
      "metadata": {
        "colab": {
          "base_uri": "https://localhost:8080/",
          "height": 467
        },
        "id": "WuYMmFXei_O6",
        "outputId": "b6e40af2-976e-4440-ebf3-976ec58efdf0"
      },
      "outputs": [
        {
          "data": {
            "text/plain": [
              "Text(0, 0.5, 'Total nilai yang memiliki NULL dari kolom tersebut')"
            ]
          },
          "execution_count": 20,
          "metadata": {},
          "output_type": "execute_result"
        },
        {
          "data": {
            "image/png": "[encoded data removed]",
            "text/plain": [
              "<Figure size 640x480 with 1 Axes>"
            ]
          },
          "metadata": {},
          "output_type": "display_data"
        }
      ],
      "source": [
        "pd.isnull(df).sum()[5:20].plot(kind=\"line\")\n",
        "mpl.xlabel('Nomor Kolom')\n",
        "mpl.ylabel('Total nilai yang memiliki NULL dari kolom tersebut')"
      ]
    },
    {
      "cell_type": "markdown",
      "metadata": {
        "id": "PH6OJ9SEjG3o"
      },
      "source": [
        "Dapat dilihat bahwa column bernomor 13 memiliki null values lebih dari 350(diatas 70% dari data), maka kita akan melakukan drop terhadap column 13, artinya column 13 bisa dibuang saja (drop)"
      ]
    },
    {
      "cell_type": "code",
      "execution_count": 21,
      "metadata": {
        "id": "aDJwHakpjSjl"
      },
      "outputs": [],
      "source": [
        "df.drop(columns = 13, inplace=True)"
      ]
    },
    {
      "cell_type": "markdown",
      "metadata": {
        "id": "wzub73ZCjXvx"
      },
      "source": [
        "Untuk column yang lain yang memiliki NULL values, akan dilakukan replacement terhadap value mean dari kolom tersebut"
      ]
    },
    {
      "cell_type": "code",
      "execution_count": 22,
      "metadata": {
        "id": "i4fdNSNTjWUL"
      },
      "outputs": [],
      "source": [
        "# Membuat copy untuk menghindari mengganti data yang sebenarnya\n",
        "\n",
        "new_df = df.copy()"
      ]
    },
    {
      "cell_type": "code",
      "execution_count": 23,
      "metadata": {
        "id": "Thun50hBjkWP"
      },
      "outputs": [],
      "source": [
        "# Membuat column baru yang akan di impute\n",
        "\n",
        "col_kosong = (col for col in new_df.columns if new_df[col].isnull().any())\n",
        "for col in col_kosong:\n",
        "    new_df[col] = new_df[col].isnull()"
      ]
    },
    {
      "cell_type": "code",
      "execution_count": 24,
      "metadata": {
        "id": "zQZdTfDFjqzZ"
      },
      "outputs": [],
      "source": [
        "# Proses Imputasi\n",
        "\n",
        "imputasi = SimpleImputer()\n",
        "new_df = pd.DataFrame(imputasi.fit_transform(new_df))\n",
        "new_df.columns = df.columns"
      ]
    },
    {
      "cell_type": "markdown",
      "metadata": {
        "id": "kLfEDlgjhbTX"
      },
      "source": [
        "Melakukan imputasi dengan modul sklearn.impute, lalu nilai-nilai yang tidak lengkap akan diisi dengan nilai yang diprediksi yang tersedia di dataset."
      ]
    },
    {
      "cell_type": "code",
      "execution_count": 25,
      "metadata": {
        "colab": {
          "base_uri": "https://localhost:8080/",
          "height": 235
        },
        "id": "vis_SZgujtuN",
        "outputId": "45d40b50-567b-41ac-bd01-516a48bd6e80"
      },
      "outputs": [
        {
          "data": {
            "text/html": [
              "\n",
              "  <div id=\"df-9c82c942-558a-4dab-bb22-23304db9dbb8\">\n",
              "    <div class=\"colab-df-container\">\n",
              "      <div>\n",
              "<style scoped>\n",
              "    .dataframe tbody tr th:only-of-type {\n",
              "        vertical-align: middle;\n",
              "    }\n",
              "\n",
              "    .dataframe tbody tr th {\n",
              "        vertical-align: top;\n",
              "    }\n",
              "\n",
              "    .dataframe thead th {\n",
              "        text-align: right;\n",
              "    }\n",
              "</style>\n",
              "<table border=\"1\" class=\"dataframe\">\n",
              "  <thead>\n",
              "    <tr style=\"text-align: right;\">\n",
              "      <th></th>\n",
              "      <th>0</th>\n",
              "      <th>1</th>\n",
              "      <th>2</th>\n",
              "      <th>3</th>\n",
              "      <th>4</th>\n",
              "      <th>5</th>\n",
              "      <th>6</th>\n",
              "      <th>7</th>\n",
              "      <th>8</th>\n",
              "      <th>9</th>\n",
              "      <th>...</th>\n",
              "      <th>270</th>\n",
              "      <th>271</th>\n",
              "      <th>272</th>\n",
              "      <th>273</th>\n",
              "      <th>274</th>\n",
              "      <th>275</th>\n",
              "      <th>276</th>\n",
              "      <th>277</th>\n",
              "      <th>278</th>\n",
              "      <th>279</th>\n",
              "    </tr>\n",
              "  </thead>\n",
              "  <tbody>\n",
              "    <tr>\n",
              "      <th>0</th>\n",
              "      <td>75.0</td>\n",
              "      <td>0.0</td>\n",
              "      <td>190.0</td>\n",
              "      <td>80.0</td>\n",
              "      <td>91.0</td>\n",
              "      <td>193.0</td>\n",
              "      <td>371.0</td>\n",
              "      <td>174.0</td>\n",
              "      <td>121.0</td>\n",
              "      <td>-16.0</td>\n",
              "      <td>...</td>\n",
              "      <td>0.0</td>\n",
              "      <td>9.0</td>\n",
              "      <td>-0.9</td>\n",
              "      <td>0.0</td>\n",
              "      <td>0.0</td>\n",
              "      <td>0.9</td>\n",
              "      <td>2.9</td>\n",
              "      <td>23.3</td>\n",
              "      <td>49.4</td>\n",
              "      <td>8.0</td>\n",
              "    </tr>\n",
              "    <tr>\n",
              "      <th>1</th>\n",
              "      <td>56.0</td>\n",
              "      <td>1.0</td>\n",
              "      <td>165.0</td>\n",
              "      <td>64.0</td>\n",
              "      <td>81.0</td>\n",
              "      <td>174.0</td>\n",
              "      <td>401.0</td>\n",
              "      <td>149.0</td>\n",
              "      <td>39.0</td>\n",
              "      <td>25.0</td>\n",
              "      <td>...</td>\n",
              "      <td>0.0</td>\n",
              "      <td>8.5</td>\n",
              "      <td>0.0</td>\n",
              "      <td>0.0</td>\n",
              "      <td>0.0</td>\n",
              "      <td>0.2</td>\n",
              "      <td>2.1</td>\n",
              "      <td>20.4</td>\n",
              "      <td>38.8</td>\n",
              "      <td>6.0</td>\n",
              "    </tr>\n",
              "    <tr>\n",
              "      <th>2</th>\n",
              "      <td>54.0</td>\n",
              "      <td>0.0</td>\n",
              "      <td>172.0</td>\n",
              "      <td>95.0</td>\n",
              "      <td>138.0</td>\n",
              "      <td>163.0</td>\n",
              "      <td>386.0</td>\n",
              "      <td>185.0</td>\n",
              "      <td>102.0</td>\n",
              "      <td>96.0</td>\n",
              "      <td>...</td>\n",
              "      <td>0.0</td>\n",
              "      <td>9.5</td>\n",
              "      <td>-2.4</td>\n",
              "      <td>0.0</td>\n",
              "      <td>0.0</td>\n",
              "      <td>0.3</td>\n",
              "      <td>3.4</td>\n",
              "      <td>12.3</td>\n",
              "      <td>49.0</td>\n",
              "      <td>10.0</td>\n",
              "    </tr>\n",
              "    <tr>\n",
              "      <th>3</th>\n",
              "      <td>55.0</td>\n",
              "      <td>0.0</td>\n",
              "      <td>175.0</td>\n",
              "      <td>94.0</td>\n",
              "      <td>100.0</td>\n",
              "      <td>202.0</td>\n",
              "      <td>380.0</td>\n",
              "      <td>179.0</td>\n",
              "      <td>143.0</td>\n",
              "      <td>28.0</td>\n",
              "      <td>...</td>\n",
              "      <td>0.0</td>\n",
              "      <td>12.2</td>\n",
              "      <td>-2.2</td>\n",
              "      <td>0.0</td>\n",
              "      <td>0.0</td>\n",
              "      <td>0.4</td>\n",
              "      <td>2.6</td>\n",
              "      <td>34.6</td>\n",
              "      <td>61.6</td>\n",
              "      <td>1.0</td>\n",
              "    </tr>\n",
              "    <tr>\n",
              "      <th>4</th>\n",
              "      <td>75.0</td>\n",
              "      <td>0.0</td>\n",
              "      <td>190.0</td>\n",
              "      <td>80.0</td>\n",
              "      <td>88.0</td>\n",
              "      <td>181.0</td>\n",
              "      <td>360.0</td>\n",
              "      <td>177.0</td>\n",
              "      <td>103.0</td>\n",
              "      <td>-16.0</td>\n",
              "      <td>...</td>\n",
              "      <td>0.0</td>\n",
              "      <td>13.1</td>\n",
              "      <td>-3.6</td>\n",
              "      <td>0.0</td>\n",
              "      <td>0.0</td>\n",
              "      <td>-0.1</td>\n",
              "      <td>3.9</td>\n",
              "      <td>25.4</td>\n",
              "      <td>62.8</td>\n",
              "      <td>7.0</td>\n",
              "    </tr>\n",
              "  </tbody>\n",
              "</table>\n",
              "<p>5 rows × 279 columns</p>\n",
              "</div>\n",
              "      <button class=\"colab-df-convert\" onclick=\"convertToInteractive('df-9c82c942-558a-4dab-bb22-23304db9dbb8')\"\n",
              "              title=\"Convert this dataframe to an interactive table.\"\n",
              "              style=\"display:none;\">\n",
              "        \n",
              "  <svg xmlns=\"http://www.w3.org/2000/svg\" height=\"24px\"viewBox=\"0 0 24 24\"\n",
              "       width=\"24px\">\n",
              "    <path d=\"M0 0h24v24H0V0z\" fill=\"none\"/>\n",
              "    <path d=\"M18.56 5.44l.94 2.06.94-2.06 2.06-.94-2.06-.94-.94-2.06-.94 2.06-2.06.94zm-11 1L8.5 8.5l.94-2.06 2.06-.94-2.06-.94L8.5 2.5l-.94 2.06-2.06.94zm10 10l.94 2.06.94-2.06 2.06-.94-2.06-.94-.94-2.06-.94 2.06-2.06.94z\"/><path d=\"M17.41 7.96l-1.37-1.37c-.4-.4-.92-.59-1.43-.59-.52 0-1.04.2-1.43.59L10.3 9.45l-7.72 7.72c-.78.78-.78 2.05 0 2.83L4 21.41c.39.39.9.59 1.41.59.51 0 1.02-.2 1.41-.59l7.78-7.78 2.81-2.81c.8-.78.8-2.07 0-2.86zM5.41 20L4 18.59l7.72-7.72 1.47 1.35L5.41 20z\"/>\n",
              "  </svg>\n",
              "      </button>\n",
              "      \n",
              "  <style>\n",
              "    .colab-df-container {\n",
              "      display:flex;\n",
              "      flex-wrap:wrap;\n",
              "      gap: 12px;\n",
              "    }\n",
              "\n",
              "    .colab-df-convert {\n",
              "      background-color: #E8F0FE;\n",
              "      border: none;\n",
              "      border-radius: 50%;\n",
              "      cursor: pointer;\n",
              "      display: none;\n",
              "      fill: #1967D2;\n",
              "      height: 32px;\n",
              "      padding: 0 0 0 0;\n",
              "      width: 32px;\n",
              "    }\n",
              "\n",
              "    .colab-df-convert:hover {\n",
              "      background-color: #E2EBFA;\n",
              "      box-shadow: 0px 1px 2px rgba(60, 64, 67, 0.3), 0px 1px 3px 1px rgba(60, 64, 67, 0.15);\n",
              "      fill: #174EA6;\n",
              "    }\n",
              "\n",
              "    [theme=dark] .colab-df-convert {\n",
              "      background-color: #3B4455;\n",
              "      fill: #D2E3FC;\n",
              "    }\n",
              "\n",
              "    [theme=dark] .colab-df-convert:hover {\n",
              "      background-color: #434B5C;\n",
              "      box-shadow: 0px 1px 3px 1px rgba(0, 0, 0, 0.15);\n",
              "      filter: drop-shadow(0px 1px 2px rgba(0, 0, 0, 0.3));\n",
              "      fill: #FFFFFF;\n",
              "    }\n",
              "  </style>\n",
              "\n",
              "      <script>\n",
              "        const buttonEl =\n",
              "          document.querySelector('#df-9c82c942-558a-4dab-bb22-23304db9dbb8 button.colab-df-convert');\n",
              "        buttonEl.style.display =\n",
              "          google.colab.kernel.accessAllowed ? 'block' : 'none';\n",
              "\n",
              "        async function convertToInteractive(key) {\n",
              "          const element = document.querySelector('#df-9c82c942-558a-4dab-bb22-23304db9dbb8');\n",
              "          const dataTable =\n",
              "            await google.colab.kernel.invokeFunction('convertToInteractive',\n",
              "                                                     [key], {});\n",
              "          if (!dataTable) return;\n",
              "\n",
              "          const docLinkHtml = 'Like what you see? Visit the ' +\n",
              "            '<a target=\"_blank\" href=https://colab.research.google.com/notebooks/data_table.ipynb>data table notebook</a>'\n",
              "            + ' to learn more about interactive tables.';\n",
              "          element.innerHTML = '';\n",
              "          dataTable['output_type'] = 'display_data';\n",
              "          await google.colab.output.renderOutput(dataTable, element);\n",
              "          const docLink = document.createElement('div');\n",
              "          docLink.innerHTML = docLinkHtml;\n",
              "          element.appendChild(docLink);\n",
              "        }\n",
              "      </script>\n",
              "    </div>\n",
              "  </div>\n",
              "  "
            ],
            "text/plain": [
              "    0    1      2     3      4      5      6      7      8     9    ...  270  \\\n",
              "0  75.0  0.0  190.0  80.0   91.0  193.0  371.0  174.0  121.0 -16.0  ...  0.0   \n",
              "1  56.0  1.0  165.0  64.0   81.0  174.0  401.0  149.0   39.0  25.0  ...  0.0   \n",
              "2  54.0  0.0  172.0  95.0  138.0  163.0  386.0  185.0  102.0  96.0  ...  0.0   \n",
              "3  55.0  0.0  175.0  94.0  100.0  202.0  380.0  179.0  143.0  28.0  ...  0.0   \n",
              "4  75.0  0.0  190.0  80.0   88.0  181.0  360.0  177.0  103.0 -16.0  ...  0.0   \n",
              "\n",
              "    271  272  273  274  275  276   277   278   279  \n",
              "0   9.0 -0.9  0.0  0.0  0.9  2.9  23.3  49.4   8.0  \n",
              "1   8.5  0.0  0.0  0.0  0.2  2.1  20.4  38.8   6.0  \n",
              "2   9.5 -2.4  0.0  0.0  0.3  3.4  12.3  49.0  10.0  \n",
              "3  12.2 -2.2  0.0  0.0  0.4  2.6  34.6  61.6   1.0  \n",
              "4  13.1 -3.6  0.0  0.0 -0.1  3.9  25.4  62.8   7.0  \n",
              "\n",
              "[5 rows x 279 columns]"
            ]
          },
          "execution_count": 25,
          "metadata": {},
          "output_type": "execute_result"
        }
      ],
      "source": [
        "new_df.head()"
      ]
    },
    {
      "cell_type": "markdown",
      "metadata": {
        "id": "YHsvrE9chrT-"
      },
      "source": [
        "Mengecek sekali lagi untuk data yang bernilai NULL"
      ]
    },
    {
      "cell_type": "code",
      "execution_count": 26,
      "metadata": {
        "colab": {
          "base_uri": "https://localhost:8080/"
        },
        "id": "7n2axobUj0m1",
        "outputId": "5ae15384-ae09-49bb-b1ea-65117966cde5"
      },
      "outputs": [
        {
          "data": {
            "text/plain": [
              "0"
            ]
          },
          "execution_count": 26,
          "metadata": {},
          "output_type": "execute_result"
        }
      ],
      "source": [
        "pd.isnull(new_df).sum().sum()"
      ]
    },
    {
      "cell_type": "markdown",
      "metadata": {
        "id": "yVfib86Cj2fD"
      },
      "source": [
        "Melakukan generate terhadap dataset finalnya (mengisi kolom atas dengan keterangannya)"
      ]
    },
    {
      "cell_type": "code",
      "execution_count": 27,
      "metadata": {
        "id": "RmAq7E5fj69S"
      },
      "outputs": [],
      "source": [
        "final_df_columns=[\"Age\",\"Sex\",\"Height\",\"Weight\",\"QRS_Duration\",\n",
        "\"P-R_Interval\",\"Q-T_Interval\",\"T_Interval\",\"P_Interval\",\"QRS\",\"T\",\"P\",\"QRST\",\"J\",\"Heart_Rate\",\n",
        "\"Q_Wave\",\"R_Wave\",\"S_Wave\",\"R'_Wave\",\"S'_Wave\",\"Intrinsic_Deflections\",\"Ragged_R_Nominal\",\n",
        "\"Diphasic_R_Nominal\",\"Ragged_P_Nominal\",\"Diphasic_P_Nominal\",\"Ragged_T_Nominal\",\"Diphasic_T_Nominal\", \n",
        "\"DII_00\", \"DII_01\", \"DII_02\", \"DII_03\", \"DII_04\", \"DII_05\", \"DII_06\", \"DII_07\", \"DII_08\", \"DII_09\", \"DII_10\", \"DII_11\",\n",
        "\"DIII_00\", \"DIII_01\", \"DIII_02\", \"DIII_03\", \"DIII_04\", \"DIII_05\", \"DIII_06\", \"DIII_07\", \"DIII_08\", \"DIII_09\", \"DIII_10\", \"DIII_11\",\n",
        "\"AVR_00\", \"AVR_01\", \"AVR_02\", \"AVR_03\", \"AVR_04\", \"AVR_05\", \"AVR_06\", \"AVR_07\", \"AVR_08\", \"AVR_09\", \"AVR_10\", \"AVR_11\",\n",
        "\"AVL_00\", \"AVL_01\", \"AVL_02\", \"AVL_03\", \"AVL_04\", \"AVL_05\", \"AVL_06\", \"AVL_07\", \"AVL_08\", \"AVL_09\", \"AVL_10\", \"AVL_11\",\n",
        "\"AVF_00\", \"AVF_01\", \"AVF_02\", \"AVF_03\", \"AVF_04\", \"AVF_05\", \"AVF_06\", \"AVF_07\", \"AVF_08\", \"AVF_09\", \"AVF_10\", \"AVF_11\",\n",
        "\"V1_00\", \"V1_01\", \"V1_02\", \"V1_03\", \"V1_04\", \"V1_05\", \"V1_06\", \"V1_07\", \"V1_08\", \"V1_09\", \"V1_10\", \"V1_11\",\n",
        "\"V2_00\", \"V2_01\", \"V2_02\", \"V2_03\", \"V2_04\", \"V2_05\", \"V2_06\", \"V2_07\", \"V2_08\", \"V2_09\", \"V2_10\", \"V2_11\",\n",
        "\"V3_00\", \"V3_01\", \"V3_02\", \"V3_03\", \"V3_04\", \"V3_05\", \"V3_06\", \"V3_07\", \"V3_08\", \"V3_09\", \"V3_10\", \"V3_11\",\n",
        "\"V4_00\", \"V4_01\", \"V4_02\", \"V4_03\", \"V4_04\", \"V4_05\", \"V4_06\", \"V4_07\", \"V4_08\", \"V4_09\", \"V4_10\", \"V4_11\",\n",
        "\"V5_00\", \"V5_01\", \"V5_02\", \"V5_03\", \"V5_04\", \"V5_05\", \"V5_06\", \"V5_07\", \"V5_08\", \"V5_09\", \"V5_10\", \"V5_11\",\n",
        "\"V6_00\", \"V6_01\", \"V6_02\", \"V6_03\", \"V6_04\", \"V6_05\", \"V6_06\", \"V6_07\", \"V6_08\", \"V6_09\", \"V6_10\", \"V6_11\"\n",
        "\"JJ_Wave\",\"Amp_Q_Wave\",\"Amp_R_Wave\",\"Amp_S_Wave\",\"R_Prime_Wave\",\"S_Prime_Wave\",\"P_Wave\",\"T_Wave\",\n",
        "\"QRSA\",\"QRSTA\",\"DII_170\", \"DII_171\", \"DII_172\", \"DII_173\", \"DII_174\", \"DII_175\", \"DII_176\", \"DII_177\", \"DII_178\", \"DII_179\",\n",
        "\"DIII_180\", \"DIII_181\", \"DIII_182\", \"DIII_183\", \"DIII_184\", \"DIII_185\", \"DIII_186\", \"DIII_187\", \"DIII_188\", \"DIII_189\",\n",
        "\"AVR_190\", \"AVR_191\", \"AVR_192\", \"AVR_193\", \"AVR_194\", \"AVR_195\", \"AVR_196\", \"AVR_197\", \"AVR_198\", \"AVR_199\",\n",
        "\"AVL_200\", \"AVL_201\", \"AVL_202\", \"AVL_203\", \"AVL_204\", \"AVL_205\", \"AVL_206\", \"AVL_207\", \"AVL_208\", \"AVL_209\",\n",
        "\"AVF_210\", \"AVF_211\", \"AVF_212\", \"AVF_213\", \"AVF_214\", \"AVF_215\", \"AVF_216\", \"AVF_217\", \"AVF_218\", \"AVF_219\",\n",
        "\"V1_220\", \"V1_221\", \"V1_222\", \"V1_223\", \"V1_224\", \"V1_225\", \"V1_226\", \"V1_227\", \"V1_228\", \"V1_229\",\n",
        "\"V2_230\", \"V2_231\", \"V2_232\", \"V2_233\", \"V2_234\", \"V2_235\", \"V2_236\", \"V2_237\", \"V2_238\", \"V2_239\",\n",
        "\"V3_240\", \"V3_241\", \"V3_242\", \"V3_243\", \"V3_244\", \"V3_245\", \"V3_246\", \"V3_247\", \"V3_248\", \"V3_249\",\n",
        "\"V4_250\", \"V4_251\", \"V4_252\", \"V4_253\", \"V4_254\", \"V4_255\", \"V4_256\", \"V4_257\", \"V4_258\", \"V4_259\",\n",
        "\"V5_260\", \"V5_261\", \"V5_262\", \"V5_263\", \"V5_264\", \"V5_265\", \"V5_266\", \"V5_267\", \"V5_268\", \"V5_269\",\n",
        "\"V6_270\", \"V6_271\", \"V6_272\", \"V6_273\", \"V6_274\", \"V6_275\", \"V6_276\", \"V6_277\", \"V6_278\", \"V6_279\",\"class\"]"
      ]
    },
    {
      "cell_type": "markdown",
      "metadata": {
        "id": "EMdzOmE-jJyv"
      },
      "source": [
        "Membuat datasets .csv yang baru"
      ]
    },
    {
      "cell_type": "code",
      "execution_count": 28,
      "metadata": {
        "id": "vihFBY7Fj90M"
      },
      "outputs": [],
      "source": [
        "new_df.columns=final_df_columns\n",
        "new_df.to_csv(\"new_datasets.csv\")"
      ]
    },
    {
      "cell_type": "markdown",
      "metadata": {
        "id": "uZEE4wRfkGAa"
      },
      "source": [
        "Setelah dataframe yang baru sudah jadi, maka target attribut akan di remove dan akan menyimpan dataframe yang baru.\n",
        "Tujuan atribut class disimpan di target adalah agar kita dapat mengklasifikasikan setiap jenis arrhythmia kedalam tiap tiap namanya"
      ]
    },
    {
      "cell_type": "code",
      "execution_count": 29,
      "metadata": {
        "colab": {
          "base_uri": "https://localhost:8080/",
          "height": 392
        },
        "id": "BfDoAAsqlO6i",
        "outputId": "0b8ad36f-df49-4f84-a401-dba9ef143d1e"
      },
      "outputs": [
        {
          "data": {
            "text/html": [
              "\n",
              "  <div id=\"df-e447fa92-7dea-4e71-b19b-d09a3af8c733\">\n",
              "    <div class=\"colab-df-container\">\n",
              "      <div>\n",
              "<style scoped>\n",
              "    .dataframe tbody tr th:only-of-type {\n",
              "        vertical-align: middle;\n",
              "    }\n",
              "\n",
              "    .dataframe tbody tr th {\n",
              "        vertical-align: top;\n",
              "    }\n",
              "\n",
              "    .dataframe thead th {\n",
              "        text-align: right;\n",
              "    }\n",
              "</style>\n",
              "<table border=\"1\" class=\"dataframe\">\n",
              "  <thead>\n",
              "    <tr style=\"text-align: right;\">\n",
              "      <th></th>\n",
              "      <th>Age</th>\n",
              "      <th>Sex</th>\n",
              "      <th>Height</th>\n",
              "      <th>Weight</th>\n",
              "      <th>QRS_Duration</th>\n",
              "      <th>P-R_Interval</th>\n",
              "      <th>Q-T_Interval</th>\n",
              "      <th>T_Interval</th>\n",
              "      <th>P_Interval</th>\n",
              "      <th>QRS</th>\n",
              "      <th>...</th>\n",
              "      <th>V6_271</th>\n",
              "      <th>V6_272</th>\n",
              "      <th>V6_273</th>\n",
              "      <th>V6_274</th>\n",
              "      <th>V6_275</th>\n",
              "      <th>V6_276</th>\n",
              "      <th>V6_277</th>\n",
              "      <th>V6_278</th>\n",
              "      <th>V6_279</th>\n",
              "      <th>class</th>\n",
              "    </tr>\n",
              "  </thead>\n",
              "  <tbody>\n",
              "    <tr>\n",
              "      <th>0</th>\n",
              "      <td>75.0</td>\n",
              "      <td>0.0</td>\n",
              "      <td>190.0</td>\n",
              "      <td>80.0</td>\n",
              "      <td>91.0</td>\n",
              "      <td>193.0</td>\n",
              "      <td>371.0</td>\n",
              "      <td>174.0</td>\n",
              "      <td>121.0</td>\n",
              "      <td>-16.0</td>\n",
              "      <td>...</td>\n",
              "      <td>0.0</td>\n",
              "      <td>9.0</td>\n",
              "      <td>-0.9</td>\n",
              "      <td>0.0</td>\n",
              "      <td>0.0</td>\n",
              "      <td>0.9</td>\n",
              "      <td>2.9</td>\n",
              "      <td>23.3</td>\n",
              "      <td>49.4</td>\n",
              "      <td>8.0</td>\n",
              "    </tr>\n",
              "    <tr>\n",
              "      <th>1</th>\n",
              "      <td>56.0</td>\n",
              "      <td>1.0</td>\n",
              "      <td>165.0</td>\n",
              "      <td>64.0</td>\n",
              "      <td>81.0</td>\n",
              "      <td>174.0</td>\n",
              "      <td>401.0</td>\n",
              "      <td>149.0</td>\n",
              "      <td>39.0</td>\n",
              "      <td>25.0</td>\n",
              "      <td>...</td>\n",
              "      <td>0.0</td>\n",
              "      <td>8.5</td>\n",
              "      <td>0.0</td>\n",
              "      <td>0.0</td>\n",
              "      <td>0.0</td>\n",
              "      <td>0.2</td>\n",
              "      <td>2.1</td>\n",
              "      <td>20.4</td>\n",
              "      <td>38.8</td>\n",
              "      <td>6.0</td>\n",
              "    </tr>\n",
              "    <tr>\n",
              "      <th>2</th>\n",
              "      <td>54.0</td>\n",
              "      <td>0.0</td>\n",
              "      <td>172.0</td>\n",
              "      <td>95.0</td>\n",
              "      <td>138.0</td>\n",
              "      <td>163.0</td>\n",
              "      <td>386.0</td>\n",
              "      <td>185.0</td>\n",
              "      <td>102.0</td>\n",
              "      <td>96.0</td>\n",
              "      <td>...</td>\n",
              "      <td>0.0</td>\n",
              "      <td>9.5</td>\n",
              "      <td>-2.4</td>\n",
              "      <td>0.0</td>\n",
              "      <td>0.0</td>\n",
              "      <td>0.3</td>\n",
              "      <td>3.4</td>\n",
              "      <td>12.3</td>\n",
              "      <td>49.0</td>\n",
              "      <td>10.0</td>\n",
              "    </tr>\n",
              "    <tr>\n",
              "      <th>3</th>\n",
              "      <td>55.0</td>\n",
              "      <td>0.0</td>\n",
              "      <td>175.0</td>\n",
              "      <td>94.0</td>\n",
              "      <td>100.0</td>\n",
              "      <td>202.0</td>\n",
              "      <td>380.0</td>\n",
              "      <td>179.0</td>\n",
              "      <td>143.0</td>\n",
              "      <td>28.0</td>\n",
              "      <td>...</td>\n",
              "      <td>0.0</td>\n",
              "      <td>12.2</td>\n",
              "      <td>-2.2</td>\n",
              "      <td>0.0</td>\n",
              "      <td>0.0</td>\n",
              "      <td>0.4</td>\n",
              "      <td>2.6</td>\n",
              "      <td>34.6</td>\n",
              "      <td>61.6</td>\n",
              "      <td>1.0</td>\n",
              "    </tr>\n",
              "    <tr>\n",
              "      <th>4</th>\n",
              "      <td>75.0</td>\n",
              "      <td>0.0</td>\n",
              "      <td>190.0</td>\n",
              "      <td>80.0</td>\n",
              "      <td>88.0</td>\n",
              "      <td>181.0</td>\n",
              "      <td>360.0</td>\n",
              "      <td>177.0</td>\n",
              "      <td>103.0</td>\n",
              "      <td>-16.0</td>\n",
              "      <td>...</td>\n",
              "      <td>0.0</td>\n",
              "      <td>13.1</td>\n",
              "      <td>-3.6</td>\n",
              "      <td>0.0</td>\n",
              "      <td>0.0</td>\n",
              "      <td>-0.1</td>\n",
              "      <td>3.9</td>\n",
              "      <td>25.4</td>\n",
              "      <td>62.8</td>\n",
              "      <td>7.0</td>\n",
              "    </tr>\n",
              "    <tr>\n",
              "      <th>5</th>\n",
              "      <td>13.0</td>\n",
              "      <td>0.0</td>\n",
              "      <td>169.0</td>\n",
              "      <td>51.0</td>\n",
              "      <td>100.0</td>\n",
              "      <td>167.0</td>\n",
              "      <td>321.0</td>\n",
              "      <td>174.0</td>\n",
              "      <td>91.0</td>\n",
              "      <td>107.0</td>\n",
              "      <td>...</td>\n",
              "      <td>-0.6</td>\n",
              "      <td>12.2</td>\n",
              "      <td>-2.8</td>\n",
              "      <td>0.0</td>\n",
              "      <td>0.0</td>\n",
              "      <td>0.9</td>\n",
              "      <td>2.2</td>\n",
              "      <td>13.5</td>\n",
              "      <td>31.1</td>\n",
              "      <td>14.0</td>\n",
              "    </tr>\n",
              "    <tr>\n",
              "      <th>6</th>\n",
              "      <td>40.0</td>\n",
              "      <td>1.0</td>\n",
              "      <td>160.0</td>\n",
              "      <td>52.0</td>\n",
              "      <td>77.0</td>\n",
              "      <td>129.0</td>\n",
              "      <td>377.0</td>\n",
              "      <td>133.0</td>\n",
              "      <td>77.0</td>\n",
              "      <td>77.0</td>\n",
              "      <td>...</td>\n",
              "      <td>0.0</td>\n",
              "      <td>6.5</td>\n",
              "      <td>0.0</td>\n",
              "      <td>0.0</td>\n",
              "      <td>0.0</td>\n",
              "      <td>0.4</td>\n",
              "      <td>1.0</td>\n",
              "      <td>14.3</td>\n",
              "      <td>20.5</td>\n",
              "      <td>1.0</td>\n",
              "    </tr>\n",
              "    <tr>\n",
              "      <th>7</th>\n",
              "      <td>49.0</td>\n",
              "      <td>1.0</td>\n",
              "      <td>162.0</td>\n",
              "      <td>54.0</td>\n",
              "      <td>78.0</td>\n",
              "      <td>0.0</td>\n",
              "      <td>376.0</td>\n",
              "      <td>157.0</td>\n",
              "      <td>70.0</td>\n",
              "      <td>67.0</td>\n",
              "      <td>...</td>\n",
              "      <td>0.0</td>\n",
              "      <td>8.2</td>\n",
              "      <td>-1.9</td>\n",
              "      <td>0.0</td>\n",
              "      <td>0.0</td>\n",
              "      <td>0.1</td>\n",
              "      <td>0.5</td>\n",
              "      <td>15.8</td>\n",
              "      <td>19.8</td>\n",
              "      <td>1.0</td>\n",
              "    </tr>\n",
              "    <tr>\n",
              "      <th>8</th>\n",
              "      <td>44.0</td>\n",
              "      <td>0.0</td>\n",
              "      <td>168.0</td>\n",
              "      <td>56.0</td>\n",
              "      <td>84.0</td>\n",
              "      <td>118.0</td>\n",
              "      <td>354.0</td>\n",
              "      <td>160.0</td>\n",
              "      <td>63.0</td>\n",
              "      <td>61.0</td>\n",
              "      <td>...</td>\n",
              "      <td>0.0</td>\n",
              "      <td>7.0</td>\n",
              "      <td>-1.3</td>\n",
              "      <td>0.0</td>\n",
              "      <td>0.0</td>\n",
              "      <td>0.6</td>\n",
              "      <td>2.1</td>\n",
              "      <td>12.5</td>\n",
              "      <td>30.9</td>\n",
              "      <td>1.0</td>\n",
              "    </tr>\n",
              "    <tr>\n",
              "      <th>9</th>\n",
              "      <td>50.0</td>\n",
              "      <td>1.0</td>\n",
              "      <td>167.0</td>\n",
              "      <td>67.0</td>\n",
              "      <td>89.0</td>\n",
              "      <td>130.0</td>\n",
              "      <td>383.0</td>\n",
              "      <td>156.0</td>\n",
              "      <td>73.0</td>\n",
              "      <td>85.0</td>\n",
              "      <td>...</td>\n",
              "      <td>-0.6</td>\n",
              "      <td>10.8</td>\n",
              "      <td>-1.7</td>\n",
              "      <td>0.0</td>\n",
              "      <td>0.0</td>\n",
              "      <td>0.8</td>\n",
              "      <td>0.9</td>\n",
              "      <td>20.1</td>\n",
              "      <td>25.1</td>\n",
              "      <td>10.0</td>\n",
              "    </tr>\n",
              "  </tbody>\n",
              "</table>\n",
              "<p>10 rows × 279 columns</p>\n",
              "</div>\n",
              "      <button class=\"colab-df-convert\" onclick=\"convertToInteractive('df-e447fa92-7dea-4e71-b19b-d09a3af8c733')\"\n",
              "              title=\"Convert this dataframe to an interactive table.\"\n",
              "              style=\"display:none;\">\n",
              "        \n",
              "  <svg xmlns=\"http://www.w3.org/2000/svg\" height=\"24px\"viewBox=\"0 0 24 24\"\n",
              "       width=\"24px\">\n",
              "    <path d=\"M0 0h24v24H0V0z\" fill=\"none\"/>\n",
              "    <path d=\"M18.56 5.44l.94 2.06.94-2.06 2.06-.94-2.06-.94-.94-2.06-.94 2.06-2.06.94zm-11 1L8.5 8.5l.94-2.06 2.06-.94-2.06-.94L8.5 2.5l-.94 2.06-2.06.94zm10 10l.94 2.06.94-2.06 2.06-.94-2.06-.94-.94-2.06-.94 2.06-2.06.94z\"/><path d=\"M17.41 7.96l-1.37-1.37c-.4-.4-.92-.59-1.43-.59-.52 0-1.04.2-1.43.59L10.3 9.45l-7.72 7.72c-.78.78-.78 2.05 0 2.83L4 21.41c.39.39.9.59 1.41.59.51 0 1.02-.2 1.41-.59l7.78-7.78 2.81-2.81c.8-.78.8-2.07 0-2.86zM5.41 20L4 18.59l7.72-7.72 1.47 1.35L5.41 20z\"/>\n",
              "  </svg>\n",
              "      </button>\n",
              "      \n",
              "  <style>\n",
              "    .colab-df-container {\n",
              "      display:flex;\n",
              "      flex-wrap:wrap;\n",
              "      gap: 12px;\n",
              "    }\n",
              "\n",
              "    .colab-df-convert {\n",
              "      background-color: #E8F0FE;\n",
              "      border: none;\n",
              "      border-radius: 50%;\n",
              "      cursor: pointer;\n",
              "      display: none;\n",
              "      fill: #1967D2;\n",
              "      height: 32px;\n",
              "      padding: 0 0 0 0;\n",
              "      width: 32px;\n",
              "    }\n",
              "\n",
              "    .colab-df-convert:hover {\n",
              "      background-color: #E2EBFA;\n",
              "      box-shadow: 0px 1px 2px rgba(60, 64, 67, 0.3), 0px 1px 3px 1px rgba(60, 64, 67, 0.15);\n",
              "      fill: #174EA6;\n",
              "    }\n",
              "\n",
              "    [theme=dark] .colab-df-convert {\n",
              "      background-color: #3B4455;\n",
              "      fill: #D2E3FC;\n",
              "    }\n",
              "\n",
              "    [theme=dark] .colab-df-convert:hover {\n",
              "      background-color: #434B5C;\n",
              "      box-shadow: 0px 1px 3px 1px rgba(0, 0, 0, 0.15);\n",
              "      filter: drop-shadow(0px 1px 2px rgba(0, 0, 0, 0.3));\n",
              "      fill: #FFFFFF;\n",
              "    }\n",
              "  </style>\n",
              "\n",
              "      <script>\n",
              "        const buttonEl =\n",
              "          document.querySelector('#df-e447fa92-7dea-4e71-b19b-d09a3af8c733 button.colab-df-convert');\n",
              "        buttonEl.style.display =\n",
              "          google.colab.kernel.accessAllowed ? 'block' : 'none';\n",
              "\n",
              "        async function convertToInteractive(key) {\n",
              "          const element = document.querySelector('#df-e447fa92-7dea-4e71-b19b-d09a3af8c733');\n",
              "          const dataTable =\n",
              "            await google.colab.kernel.invokeFunction('convertToInteractive',\n",
              "                                                     [key], {});\n",
              "          if (!dataTable) return;\n",
              "\n",
              "          const docLinkHtml = 'Like what you see? Visit the ' +\n",
              "            '<a target=\"_blank\" href=https://colab.research.google.com/notebooks/data_table.ipynb>data table notebook</a>'\n",
              "            + ' to learn more about interactive tables.';\n",
              "          element.innerHTML = '';\n",
              "          dataTable['output_type'] = 'display_data';\n",
              "          await google.colab.output.renderOutput(dataTable, element);\n",
              "          const docLink = document.createElement('div');\n",
              "          docLink.innerHTML = docLinkHtml;\n",
              "          element.appendChild(docLink);\n",
              "        }\n",
              "      </script>\n",
              "    </div>\n",
              "  </div>\n",
              "  "
            ],
            "text/plain": [
              "    Age  Sex  Height  Weight  QRS_Duration  P-R_Interval  Q-T_Interval  \\\n",
              "0  75.0  0.0   190.0    80.0          91.0         193.0         371.0   \n",
              "1  56.0  1.0   165.0    64.0          81.0         174.0         401.0   \n",
              "2  54.0  0.0   172.0    95.0         138.0         163.0         386.0   \n",
              "3  55.0  0.0   175.0    94.0         100.0         202.0         380.0   \n",
              "4  75.0  0.0   190.0    80.0          88.0         181.0         360.0   \n",
              "5  13.0  0.0   169.0    51.0         100.0         167.0         321.0   \n",
              "6  40.0  1.0   160.0    52.0          77.0         129.0         377.0   \n",
              "7  49.0  1.0   162.0    54.0          78.0           0.0         376.0   \n",
              "8  44.0  0.0   168.0    56.0          84.0         118.0         354.0   \n",
              "9  50.0  1.0   167.0    67.0          89.0         130.0         383.0   \n",
              "\n",
              "   T_Interval  P_Interval    QRS  ...  V6_271  V6_272  V6_273  V6_274  V6_275  \\\n",
              "0       174.0       121.0  -16.0  ...     0.0     9.0    -0.9     0.0     0.0   \n",
              "1       149.0        39.0   25.0  ...     0.0     8.5     0.0     0.0     0.0   \n",
              "2       185.0       102.0   96.0  ...     0.0     9.5    -2.4     0.0     0.0   \n",
              "3       179.0       143.0   28.0  ...     0.0    12.2    -2.2     0.0     0.0   \n",
              "4       177.0       103.0  -16.0  ...     0.0    13.1    -3.6     0.0     0.0   \n",
              "5       174.0        91.0  107.0  ...    -0.6    12.2    -2.8     0.0     0.0   \n",
              "6       133.0        77.0   77.0  ...     0.0     6.5     0.0     0.0     0.0   \n",
              "7       157.0        70.0   67.0  ...     0.0     8.2    -1.9     0.0     0.0   \n",
              "8       160.0        63.0   61.0  ...     0.0     7.0    -1.3     0.0     0.0   \n",
              "9       156.0        73.0   85.0  ...    -0.6    10.8    -1.7     0.0     0.0   \n",
              "\n",
              "   V6_276  V6_277  V6_278  V6_279  class  \n",
              "0     0.9     2.9    23.3    49.4    8.0  \n",
              "1     0.2     2.1    20.4    38.8    6.0  \n",
              "2     0.3     3.4    12.3    49.0   10.0  \n",
              "3     0.4     2.6    34.6    61.6    1.0  \n",
              "4    -0.1     3.9    25.4    62.8    7.0  \n",
              "5     0.9     2.2    13.5    31.1   14.0  \n",
              "6     0.4     1.0    14.3    20.5    1.0  \n",
              "7     0.1     0.5    15.8    19.8    1.0  \n",
              "8     0.6     2.1    12.5    30.9    1.0  \n",
              "9     0.8     0.9    20.1    25.1   10.0  \n",
              "\n",
              "[10 rows x 279 columns]"
            ]
          },
          "execution_count": 29,
          "metadata": {},
          "output_type": "execute_result"
        }
      ],
      "source": [
        "new_df.head(10)"
      ]
    },
    {
      "cell_type": "code",
      "execution_count": 30,
      "metadata": {
        "id": "XPWhR5UlkNHw"
      },
      "outputs": [],
      "source": [
        "target=new_df[\"class\"]\n",
        "\n",
        "final_df = new_df.drop(columns =\"class\")"
      ]
    },
    {
      "cell_type": "markdown",
      "metadata": {
        "id": "N2wq8MBFj-zr"
      },
      "source": [
        "Cek shape dari final_df"
      ]
    },
    {
      "cell_type": "code",
      "execution_count": 31,
      "metadata": {
        "colab": {
          "base_uri": "https://localhost:8080/"
        },
        "id": "vDZnI2WCkOk8",
        "outputId": "b5ab84c5-0fb7-4b96-c890-f2598e0b220c"
      },
      "outputs": [
        {
          "data": {
            "text/plain": [
              "(452, 278)"
            ]
          },
          "execution_count": 31,
          "metadata": {},
          "output_type": "execute_result"
        }
      ],
      "source": [
        "final_df.shape"
      ]
    },
    {
      "cell_type": "markdown",
      "metadata": {
        "id": "JZP0F3s6k75r"
      },
      "source": [
        "Dapat dilihat dari shape df yang sebelumnya dan setelahnya, memiliki total 280 dan 278 column, karena column no 13 dan column \"class\" telah di drop, makanya sekarang berjumlah 278"
      ]
    },
    {
      "cell_type": "markdown",
      "metadata": {
        "id": "VK_sOgvhuOwz"
      },
      "source": [
        "# **2. Exploratory Data Analysis (EDA)**"
      ]
    },
    {
      "cell_type": "markdown",
      "metadata": {
        "id": "FUOwzf-sucZj"
      },
      "source": [
        "Pertama, melakukan sorting data sesuai dengan kelas-kelas yang ada (diambil dari column \"class\" atau \"target\" diatas, dengan 1-16 refer kepada Paper : H. Altay Guvenir, Burak Acar, Gulsen Demiroz, Ayhan Cekin \"A Supervised Machine Learning Algorithm for Arrhythmia Analysis.\" Proceedings of the Computers in Cardiology Conference, Lund, Sweden, 1997."
      ]
    },
    {
      "cell_type": "code",
      "execution_count": 32,
      "metadata": {
        "id": "gCaPmmPputsS"
      },
      "outputs": [],
      "source": [
        "class_names = [\"Normal\", \n",
        "               \"Ischemic changes (CAD)\", \n",
        "               \"Old Anterior Myocardial Infraction\",\n",
        "               \"Old Inferior Myocardial Infraction\",\n",
        "               \"Sinus tachycardy\", \n",
        "               \"Sinus bradycardy\", \n",
        "               \"Ventricular Premature Contraction (PVC)\",\n",
        "               \"Supraventricular Premature Contraction\",\n",
        "               \"Left Boundle branch block\",\n",
        "               \"Right boundle branch block\",\n",
        "               \"1.Degree AtrioVentricular block\",\n",
        "               \"2.Degree AV block\",\n",
        "               \"3.Degree AV block\",\n",
        "               \"Left Ventricule hypertrophy\",\n",
        "               \"Atrial Fibrillation or Flutter\",\n",
        "               \"Others\"]"
      ]
    },
    {
      "cell_type": "markdown",
      "metadata": {
        "id": "Mpxw0onlvF6n"
      },
      "source": [
        "Dilakukan sorting sesuai dengan kelas yang ada"
      ]
    },
    {
      "cell_type": "code",
      "execution_count": 33,
      "metadata": {
        "id": "yedDWNXNvH9Y"
      },
      "outputs": [],
      "source": [
        "t_class=new_df.sort_values(by=[\"class\"])"
      ]
    },
    {
      "cell_type": "markdown",
      "metadata": {
        "id": "ObV9cT2JvNV5"
      },
      "source": [
        "Melihat banyak data pada setiap kelas, seperti ada berapa yang \"Normal\", ada berapa yang CAD, dan seterusnya"
      ]
    },
    {
      "cell_type": "code",
      "execution_count": 34,
      "metadata": {
        "colab": {
          "base_uri": "https://localhost:8080/"
        },
        "id": "mCeXTzbCvSlf",
        "outputId": "4043e05a-d145-40c1-d0dc-f92b9a40850d"
      },
      "outputs": [
        {
          "data": {
            "text/plain": [
              "[245, 44, 15, 15, 13, 25, 3, 2, 9, 50, 4, 5, 22]"
            ]
          },
          "execution_count": 34,
          "metadata": {},
          "output_type": "execute_result"
        }
      ],
      "source": [
        "countclass = t_class[\"class\"].value_counts(sort=False).tolist()\n",
        "countclass"
      ]
    },
    {
      "cell_type": "markdown",
      "metadata": {
        "id": "VL-ESdmnzqAM"
      },
      "source": [
        "Sekarang, data yang ada telah dilakukan count diatas akan divisualisasikan menggunakan histogram"
      ]
    },
    {
      "cell_type": "code",
      "execution_count": 35,
      "metadata": {
        "colab": {
          "base_uri": "https://localhost:8080/",
          "height": 449
        },
        "id": "AVmsXVVX0u7K",
        "outputId": "37c5d219-2b28-4a7f-8fc5-ae50e3a8d6d6"
      },
      "outputs": [
        {
          "data": {
            "image/png": "[encoded data removed]",
            "text/plain": [
              "<Figure size 640x480 with 1 Axes>"
            ]
          },
          "metadata": {},
          "output_type": "display_data"
        }
      ],
      "source": [
        "sbrn.countplot(x='class', data=new_df)\n",
        "mpl.show()"
      ]
    },
    {
      "cell_type": "markdown",
      "metadata": {
        "id": "dLGOoQ6I2Sed"
      },
      "source": [
        "Dapat dilihat ada beberapa column yang ternyata nilainya terloncati, setelah column 10 itu langsung column 14, maka artinya column nomer 11,12 dan 13 itu nilainya 0, dan tidak ditampilkan dalam histogram diatas, sehingga kita akan melakukan extend pada column yang bernilai 0 tersebut"
      ]
    },
    {
      "cell_type": "code",
      "execution_count": 36,
      "metadata": {
        "colab": {
          "base_uri": "https://localhost:8080/"
        },
        "id": "6QJLobEp2X9J",
        "outputId": "770f7d8b-9cec-4e9b-eb55-677ebc874464"
      },
      "outputs": [
        {
          "name": "stdout",
          "output_type": "stream",
          "text": [
            "[245, 44, 15, 15, 13, 25, 3, 2, 9, 50, 0, 0, 0, 4, 5, 22]\n"
          ]
        }
      ],
      "source": [
        "class_extended = countclass[0:10]\n",
        "class_extended.extend([0,0,0])\n",
        "class_extended.extend(countclass[10:13])\n",
        "print(class_extended)"
      ]
    },
    {
      "cell_type": "markdown",
      "metadata": {
        "id": "MESmU2YC2qXH"
      },
      "source": [
        "Nah, sekarang kita dapat melihat bahwa extended class tersebut lebih memiliki nilai 0 yang telah dimasukkan pada column nomer 11,12,13"
      ]
    },
    {
      "cell_type": "markdown",
      "metadata": {
        "id": "YETFjalv3Cvq"
      },
      "source": [
        "Lalu, kita melakukan visualisasi lagi terhadap class ini dengan menggunakan pie chart agar seluruh column tipe-tipe arrhythmia itu terlihat"
      ]
    },
    {
      "cell_type": "code",
      "execution_count": 37,
      "metadata": {
        "colab": {
          "base_uri": "https://localhost:8080/",
          "height": 1000
        },
        "id": "6oly66AZ3NRI",
        "outputId": "bb535b7e-edf6-4764-a071-a42ad84c2914"
      },
      "outputs": [
        {
          "data": {
            "image/png": "[encoded data removed]",
            "text/plain": [
              "<Figure size 1600x1000 with 1 Axes>"
            ]
          },
          "metadata": {},
          "output_type": "display_data"
        }
      ],
      "source": [
        "labels = class_names\n",
        "Log_Norm = []\n",
        "for i in class_extended:\n",
        "  Log_Norm.append(mat.log10(i+1))\n",
        "fig1, ax1 = mpl.subplots(figsize=(16,10))\n",
        "patches = mpl.pie(Log_Norm, autopct='%1.2f%%', startangle = 90)\n",
        "\n",
        "leg = mpl.legend(loc = 'best', labels=['%s, %1.2f%%'% (l, s) for l, s in zip(labels, Log_Norm)])\n",
        "mpl.axis('equal')\n",
        "\n",
        "for text in leg.get_texts():\n",
        "  mpl.setp(text, color = 'Blue')\n",
        "mpl.tight_layout()\n",
        "mpl.show()"
      ]
    },
    {
      "cell_type": "markdown",
      "metadata": {
        "id": "8n7xWSYr9kJ7"
      },
      "source": [
        "Berdasarkan pie chart yang merupakan visualisasi datanya, dapat dilihat bahwa 245 orang merupakan \"Normal\", dan berdasarkan hal tersebut, orang normal bukan sebuah klasifikasi penyakit arrhythmia, jadi kita tidak memerlukannya, dan kita memiliki 12 tipe yang ada pengidapnya, dikarenakan 3 tipe klasifikasi (1,2,dan 3 degree AV block) tidak memiliki pengidap, maka kita juga membuang untuk mendapatkan hasil/akurasi yang lebih relevan (sesuai dengan poin (1) di tugas dan tanggung jawab), jadi kita menggunakan 12 kelas tersebut (yang memiliki pengidap)"
      ]
    },
    {
      "cell_type": "markdown",
      "metadata": {
        "id": "TY1fcnoW-TPV"
      },
      "source": [
        "Sekarang, kita akan lanjut kepada outliers dari dataset, disini kita hanya akan lebih berfokus kepada outliers-outliers yang memiliki nilai tidak wajar saja, sehingga untuk outliers lainnya yang dianggap wajar tidak akan dikeluarkan/diketikkan."
      ]
    },
    {
      "cell_type": "markdown",
      "metadata": {
        "id": "3JvyFQ2a-yjq"
      },
      "source": [
        "Pertama, akan dicari outliers dengan menggunakan Scatter Plot dari column Age, Sex, Height dan Weight dari para pasien dengan pembedanya adalah 'Sex' atau jenis kelamin, dimana 0 adalah Male dan 1 adalah Female"
      ]
    },
    {
      "cell_type": "code",
      "execution_count": 38,
      "metadata": {
        "colab": {
          "base_uri": "https://localhost:8080/",
          "height": 997
        },
        "id": "oVzIi6r9-x_I",
        "outputId": "b9a0aa2a-3a1e-4285-875c-131affaddedb"
      },
      "outputs": [
        {
          "data": {
            "image/png": "[encoded data removed]",
            "text/plain": [
              "<Figure size 1072x1000 with 16 Axes>"
            ]
          },
          "metadata": {},
          "output_type": "display_data"
        }
      ],
      "source": [
        "outlier1 = sbrn.PairGrid(final_df, vars=['Age','Sex','Height','Weight'], hue='Sex', palette='deep')\n",
        "outlier1.map(mpl.scatter, alpha=0.85)\n",
        "outlier1.add_legend();"
      ]
    },
    {
      "cell_type": "markdown",
      "metadata": {
        "id": "kq5Dpqw7AiQq"
      },
      "source": [
        "Kita disini melihat kejanggalan pada Height dimana ada titik-titik yang berada pada tinggi yang tidak seharusnya dialami oleh manusia, kita dapat melihat datanya dengan fungsi sorted() dengan sort descending, parameter reverse di set True, dengan melihat 5 data teratas"
      ]
    },
    {
      "cell_type": "code",
      "execution_count": 39,
      "metadata": {
        "colab": {
          "base_uri": "https://localhost:8080/"
        },
        "id": "LNNxH3CZAsPg",
        "outputId": "6b8d784b-2123-45fe-82cd-083de3da31cb"
      },
      "outputs": [
        {
          "data": {
            "text/plain": [
              "[780.0, 608.0, 190.0, 190.0, 190.0]"
            ]
          },
          "execution_count": 39,
          "metadata": {},
          "output_type": "execute_result"
        }
      ],
      "source": [
        "sorted(final_df['Height'], reverse=True) [:5]"
      ]
    },
    {
      "cell_type": "markdown",
      "metadata": {
        "id": "THqU5fwmBAYR"
      },
      "source": [
        "Ternyata, ada orang dengan tinggi 780 dan 608 yang dipercaya sebagai typo, karena tidak ada manusia dengan tinggi melebihi 3 meter, kami melakukan replacement terhadap nilai-nilai tersebut, yaitu 780 menjadi 180, dan 608 menjadi 108"
      ]
    },
    {
      "cell_type": "code",
      "execution_count": 40,
      "metadata": {
        "id": "kWfVWdveBM45"
      },
      "outputs": [],
      "source": [
        "final_df['Height']=final_df['Height'].replace(608,108)\n",
        "final_df['Height']=final_df['Height'].replace(780, 180)"
      ]
    },
    {
      "cell_type": "markdown",
      "metadata": {
        "id": "suuELxspBoD9"
      },
      "source": [
        "Setelahnya, kita mencari korelasi antar fitur di target yang ada menggunakan Kendall Correlation"
      ]
    },
    {
      "cell_type": "code",
      "execution_count": 41,
      "metadata": {
        "colab": {
          "base_uri": "https://localhost:8080/"
        },
        "id": "JPgLX23LB5NL",
        "outputId": "066b30b1-3b1e-4ebb-aada-e6d40a1fd1a8"
      },
      "outputs": [
        {
          "data": {
            "text/plain": [
              "array([ 0.00347565, -0.20329252,  0.05965791, -0.01176698,  0.25349579,\n",
              "        0.01815787,  0.00947096,  0.0803328 , -0.04358358, -0.00063419,\n",
              "        0.05136018,  0.13731594, -0.03710983,  0.04750776,  0.01566183,\n",
              "       -0.0347068 ,  0.14245587,  0.03484694,         nan,  0.02398712,\n",
              "        0.01470051, -0.00475138, -0.01956926,  0.05355477,  0.05355477,\n",
              "        0.09380419,  0.02427878, -0.00351737,  0.1521203 ,  0.00319319,\n",
              "        0.06849175,  0.04489451,  0.02325262,  0.08723687,  0.01470051,\n",
              "        0.00939112, -0.01586338,  0.03090125,  0.00599876,  0.06369999,\n",
              "        0.03998987, -0.01925751, -0.039399  ,  0.07155208, -0.03710983,\n",
              "        0.04166294, -0.03710983, -0.08732507,  0.00966383,  0.03566087,\n",
              "       -0.03742002,  0.15694027,  0.03660488,  0.06817481, -0.03710983,\n",
              "        0.12306068, -0.06007683,  0.05355477, -0.01586338,  0.03566087,\n",
              "        0.03566087,  0.07060047, -0.01199492,  0.03546055,  0.08741292,\n",
              "        0.0255627 ,         nan,  0.10976369,         nan,  0.06138946,\n",
              "       -0.03710983,  0.02527771, -0.00767635,  0.03567564,  0.10744892,\n",
              "       -0.0070253 ,  0.106842  ,  0.02892532,  0.07377684,  0.10774906,\n",
              "        0.05355477,  0.01978791,         nan, -0.03710983, -0.03710983,\n",
              "        0.05037615,  0.09759826,  0.05928866, -0.15615192,  0.31211218,\n",
              "        0.00767066,  0.14725434,  0.05591288,  0.16235096,  0.00557609,\n",
              "        0.03723388, -0.02077724,  0.01729429,  0.1644338 , -0.00350717,\n",
              "       -0.01189742,  0.25234027,  0.0981637 ,  0.06405551,  0.02671126,\n",
              "        0.10963308,  0.09884163,  0.09938028,  0.04011186,  0.04171417,\n",
              "        0.14998025, -0.04905821,  0.12337882,  0.10247459,  0.08624888,\n",
              "       -0.01921108,  0.03378157,  0.06484949,  0.1052905 ,  0.09092621,\n",
              "        0.02551868,  0.05202363,  0.10018981, -0.04699316,  0.14699315,\n",
              "        0.03293416,  0.0169961 , -0.03342349,  0.03578778,  0.07190489,\n",
              "               nan,         nan,  0.02830027,  0.09211614,  0.12571354,\n",
              "       -0.01967334,  0.12363566,  0.02323737,         nan,  0.05913605,\n",
              "               nan,  0.08744817,         nan, -0.03710983,         nan,\n",
              "        0.00778009,  0.10672449, -0.02198467,  0.09921254, -0.02529244,\n",
              "               nan,  0.09226537, -0.03710983,  0.03065595, -0.00101526,\n",
              "               nan,         nan,  0.02327373, -0.04971644, -0.01100931,\n",
              "       -0.06387448, -0.13418039,  0.03504607,         nan, -0.07255354,\n",
              "       -0.13783107, -0.10045652, -0.173153  , -0.02984142, -0.02691768,\n",
              "       -0.07453332, -0.13782949,  0.00285074, -0.06849175, -0.04065646,\n",
              "       -0.08742096, -0.09473005, -0.13243018, -0.00726679, -0.01164636,\n",
              "        0.05321022, -0.03653803, -0.02056016,  0.03921196, -0.02985199,\n",
              "        0.04331262, -0.00268581,  0.02307014,  0.04495231,  0.09957205,\n",
              "        0.14307476, -0.03471326,  0.06870658,  0.03710983,  0.04487827,\n",
              "        0.11732336,  0.13291729,  0.1746164 , -0.0095749 ,  0.0158134 ,\n",
              "        0.0243241 , -0.07248426,  0.025775  ,         nan,  0.01370931,\n",
              "       -0.12677641, -0.02332053, -0.0845746 , -0.02528374, -0.10020061,\n",
              "       -0.01596361, -0.08913336,  0.02969318, -0.07377684, -0.028319  ,\n",
              "       -0.02640967, -0.06334167, -0.07322594,  0.03546626, -0.08025554,\n",
              "        0.03292597,  0.06520049,  0.30989887, -0.0075642 , -0.03925209,\n",
              "        0.04210899,  0.10053779,  0.1473138 , -0.00451443, -0.16334315,\n",
              "       -0.01526038,  0.05268927,  0.25083384, -0.09812734, -0.00467972,\n",
              "       -0.06743694, -0.03249092, -0.08240574,  0.0154162 , -0.14954552,\n",
              "        0.02717444, -0.0760042 ,  0.10194181, -0.08624888,  0.05294746,\n",
              "       -0.01838037, -0.12980841, -0.10861468,  0.00758405, -0.09925366,\n",
              "        0.02426936, -0.11835041,  0.03433045, -0.0169961 , -0.04210276,\n",
              "       -0.0009366 , -0.07596258, -0.06235579, -0.07547687, -0.13178954,\n",
              "        0.00193785, -0.08836854,  0.02371452,         nan, -0.03908114,\n",
              "       -0.04592102, -0.03343439, -0.06147798, -0.10382302, -0.10196756,\n",
              "       -0.02900351, -0.09213881, -0.02529244,         nan, -0.05875891,\n",
              "       -0.11003779, -0.05727615, -0.11821713])"
            ]
          },
          "execution_count": 41,
          "metadata": {},
          "output_type": "execute_result"
        }
      ],
      "source": [
        "target = new_df[\"class\"]\n",
        "kendall_corr = final_df.corrwith(other=target, method='kendall')\n",
        "kendall_corr.values"
      ]
    },
    {
      "cell_type": "markdown",
      "metadata": {
        "id": "DiV0jt-ODZSO"
      },
      "source": [
        "Setelah didapatkan nilai korelasinya, kita selanjutnya akan membagi dataset (split and scale), dengan keterangan 75% dataset untuk training dan 25% dataset untuk testing dengan alasan menurut kami kolom yang tersedia cukup banyak sehingga akurasi dapat ditingkatkan lebih lagi, jika diatasnya, ditakutkan akan terjadi overfitting terhadap modelnya."
      ]
    },
    {
      "cell_type": "code",
      "execution_count": 42,
      "metadata": {
        "id": "zvleTD-qD9PW"
      },
      "outputs": [],
      "source": [
        "X_train, X_test, y_train, y_test = train_test_split(final_df, target, test_size=0.25, random_state = 1)\n",
        "scaler = StandardScaler()\n",
        "scaler.fit(X_train)\n",
        "X_train = scaler.transform(X_train)\n",
        "X_test = scaler.transform(X_test)\n",
        "\n",
        "warnings.filterwarnings('ignore')"
      ]
    },
    {
      "cell_type": "markdown",
      "metadata": {
        "id": "QcgzhRB9E5Aj"
      },
      "source": [
        "Dilakukan ignore terhadap warnings agar jika ada warning, setiap warningnya akan diabaikan dalam training nantinya"
      ]
    },
    {
      "cell_type": "markdown",
      "metadata": {
        "id": "gBLSVBM8FE0d"
      },
      "source": [
        "Untuk strategi mengevaluasi data, yang dikarenakan oleh variabel dependen yang digunakan seluruhnya adalah tipe categorical, maka akan digunakan model klasifikasi yang strateginya adalah perbandingan terhadap tingkat presisi data dan juga recall, dengan mempertimbangkan prediksinya, menyebabkan bahwa seluruh pasien bertipe 'Normal' tidak mungkin mengidap arrhythmia. Oleh karena itu digunakan strategi ini."
      ]
    },
    {
      "cell_type": "markdown",
      "metadata": {
        "id": "hoVSYfNRGP-y"
      },
      "source": [
        "# **3. Modeling dengan menggunakan DT dan kNN**"
      ]
    },
    {
      "cell_type": "markdown",
      "metadata": {
        "id": "mjKq9BgzHOM4"
      },
      "source": [
        "Mula-mula membuat untuk hasil, dengan isi kolom keterangan model, train accuracy dan juga test accuracy sebagai bahan pembandingnya."
      ]
    },
    {
      "cell_type": "code",
      "execution_count": 43,
      "metadata": {
        "id": "CDnElMfmFEER"
      },
      "outputs": [],
      "source": [
        "hasil = pd.DataFrame(columns=['Model', 'Train Accuracy', 'Test Accuracy'])"
      ]
    },
    {
      "cell_type": "markdown",
      "metadata": {
        "id": "JQwAbRkmH6oK"
      },
      "source": [
        "**Algoritma Decision Tree**, disini diputuskan untuk maksimum kedalaman pohonnya adalah 7 untuk mengeksplorasi data lebih luas lagi"
      ]
    },
    {
      "cell_type": "code",
      "execution_count": 44,
      "metadata": {
        "id": "i1faikh0H-xG"
      },
      "outputs": [],
      "source": [
        "dt = DecisionTreeClassifier(criterion = 'entropy', random_state = 0, max_depth = 7)\n",
        "dt.fit(X_train, y_train)\n",
        "y_prediction_test = dt.predict(X_test)\n",
        "y_prediction_train = dt.predict (X_train)"
      ]
    },
    {
      "cell_type": "markdown",
      "metadata": {
        "id": "3KIx6w5AJOhB"
      },
      "source": [
        "Untuk nilai recall digunakan parameter average=weighted untuk menghitung nilai recall secara agregat dan setiap kelasnya secara terpisah, dikarenakan persebaran kelasnya meluas (ingat 12 kelas yang telah diklasifikasikan sebelumnya)."
      ]
    },
    {
      "cell_type": "code",
      "execution_count": 45,
      "metadata": {
        "id": "m5Ln2vhcImkn"
      },
      "outputs": [],
      "source": [
        "dt_train_recall = recall_score(y_train, y_prediction_train, average=\"weighted\")\n",
        "dt_test_recall = recall_score(y_test, y_prediction_test, average=\"weighted\")\n",
        "dt_train_accuracy = accuracy_score(y_train, y_prediction_train)\n",
        "dt_test_accuracy = accuracy_score(y_test, y_prediction_test)"
      ]
    },
    {
      "cell_type": "markdown",
      "metadata": {
        "id": "dKzQTzHAJNPL"
      },
      "source": [
        "Selanjutnya, dikeluarkan score untuk recallnya dengan confusion matrix yang gunanya adalah menunjukkan seberapa baik dan akurat model ini dalam melakukan klasifikasinya"
      ]
    },
    {
      "cell_type": "code",
      "execution_count": 46,
      "metadata": {
        "colab": {
          "base_uri": "https://localhost:8080/"
        },
        "id": "DGwHrxADJzPJ",
        "outputId": "0ed57ce4-b706-4e1e-b575-6b97344c88f7"
      },
      "outputs": [
        {
          "name": "stdout",
          "output_type": "stream",
          "text": [
            "Nilai train recall = 0.8908554572271387\n",
            "Nilai test recall = 0.6371681415929203\n"
          ]
        },
        {
          "data": {
            "text/plain": [
              "array([[56,  0,  2,  0,  1,  0,  0,  0,  2,  0,  0,  1],\n",
              "       [ 5,  2,  0,  0,  0,  0,  0,  1,  1,  1,  0,  0],\n",
              "       [ 2,  0,  4,  0,  0,  1,  0,  0,  0,  0,  0,  0],\n",
              "       [ 0,  0,  0,  1,  0,  0,  0,  0,  0,  0,  0,  0],\n",
              "       [ 2,  0,  0,  0,  1,  0,  0,  0,  0,  0,  0,  0],\n",
              "       [ 4,  0,  0,  0,  0,  0,  0,  0,  0,  0,  0,  0],\n",
              "       [ 1,  0,  0,  0,  0,  0,  0,  0,  0,  0,  0,  0],\n",
              "       [ 1,  0,  0,  0,  0,  0,  0,  2,  0,  0,  0,  1],\n",
              "       [ 5,  1,  0,  0,  0,  0,  0,  0,  6,  0,  0,  1],\n",
              "       [ 1,  0,  0,  0,  1,  0,  0,  0,  0,  0,  0,  0],\n",
              "       [ 0,  0,  0,  0,  0,  0,  0,  0,  0,  0,  0,  0],\n",
              "       [ 3,  1,  1,  0,  0,  0,  0,  0,  0,  0,  1,  0]])"
            ]
          },
          "execution_count": 46,
          "metadata": {},
          "output_type": "execute_result"
        }
      ],
      "source": [
        "print('Nilai train recall = {}'.format(dt_train_recall))\n",
        "print('Nilai test recall = {}'.format(dt_test_recall))\n",
        "confusion_matrix(y_test, y_prediction_test)"
      ]
    },
    {
      "cell_type": "markdown",
      "metadata": {
        "id": "kcTRX9o-KIx1"
      },
      "source": [
        "Selanjutnya akan ditambahkan kedalam hasil untuk dibandingkan nantinya"
      ]
    },
    {
      "cell_type": "code",
      "execution_count": 47,
      "metadata": {
        "colab": {
          "base_uri": "https://localhost:8080/",
          "height": 81
        },
        "id": "vzoQzwc1KMuE",
        "outputId": "15b6fb01-8c0b-4f5a-faee-750c9d5e3c88"
      },
      "outputs": [
        {
          "data": {
            "text/html": [
              "\n",
              "  <div id=\"df-e90a345f-c71f-4dd5-a5ac-b83eda9d3113\">\n",
              "    <div class=\"colab-df-container\">\n",
              "      <div>\n",
              "<style scoped>\n",
              "    .dataframe tbody tr th:only-of-type {\n",
              "        vertical-align: middle;\n",
              "    }\n",
              "\n",
              "    .dataframe tbody tr th {\n",
              "        vertical-align: top;\n",
              "    }\n",
              "\n",
              "    .dataframe thead th {\n",
              "        text-align: right;\n",
              "    }\n",
              "</style>\n",
              "<table border=\"1\" class=\"dataframe\">\n",
              "  <thead>\n",
              "    <tr style=\"text-align: right;\">\n",
              "      <th></th>\n",
              "      <th>Model</th>\n",
              "      <th>Train Accuracy</th>\n",
              "      <th>Test Accuracy</th>\n",
              "    </tr>\n",
              "  </thead>\n",
              "  <tbody>\n",
              "    <tr>\n",
              "      <th>0</th>\n",
              "      <td>Algoritma Decision Tree</td>\n",
              "      <td>0.890855</td>\n",
              "      <td>0.637168</td>\n",
              "    </tr>\n",
              "  </tbody>\n",
              "</table>\n",
              "</div>\n",
              "      <button class=\"colab-df-convert\" onclick=\"convertToInteractive('df-e90a345f-c71f-4dd5-a5ac-b83eda9d3113')\"\n",
              "              title=\"Convert this dataframe to an interactive table.\"\n",
              "              style=\"display:none;\">\n",
              "        \n",
              "  <svg xmlns=\"http://www.w3.org/2000/svg\" height=\"24px\"viewBox=\"0 0 24 24\"\n",
              "       width=\"24px\">\n",
              "    <path d=\"M0 0h24v24H0V0z\" fill=\"none\"/>\n",
              "    <path d=\"M18.56 5.44l.94 2.06.94-2.06 2.06-.94-2.06-.94-.94-2.06-.94 2.06-2.06.94zm-11 1L8.5 8.5l.94-2.06 2.06-.94-2.06-.94L8.5 2.5l-.94 2.06-2.06.94zm10 10l.94 2.06.94-2.06 2.06-.94-2.06-.94-.94-2.06-.94 2.06-2.06.94z\"/><path d=\"M17.41 7.96l-1.37-1.37c-.4-.4-.92-.59-1.43-.59-.52 0-1.04.2-1.43.59L10.3 9.45l-7.72 7.72c-.78.78-.78 2.05 0 2.83L4 21.41c.39.39.9.59 1.41.59.51 0 1.02-.2 1.41-.59l7.78-7.78 2.81-2.81c.8-.78.8-2.07 0-2.86zM5.41 20L4 18.59l7.72-7.72 1.47 1.35L5.41 20z\"/>\n",
              "  </svg>\n",
              "      </button>\n",
              "      \n",
              "  <style>\n",
              "    .colab-df-container {\n",
              "      display:flex;\n",
              "      flex-wrap:wrap;\n",
              "      gap: 12px;\n",
              "    }\n",
              "\n",
              "    .colab-df-convert {\n",
              "      background-color: #E8F0FE;\n",
              "      border: none;\n",
              "      border-radius: 50%;\n",
              "      cursor: pointer;\n",
              "      display: none;\n",
              "      fill: #1967D2;\n",
              "      height: 32px;\n",
              "      padding: 0 0 0 0;\n",
              "      width: 32px;\n",
              "    }\n",
              "\n",
              "    .colab-df-convert:hover {\n",
              "      background-color: #E2EBFA;\n",
              "      box-shadow: 0px 1px 2px rgba(60, 64, 67, 0.3), 0px 1px 3px 1px rgba(60, 64, 67, 0.15);\n",
              "      fill: #174EA6;\n",
              "    }\n",
              "\n",
              "    [theme=dark] .colab-df-convert {\n",
              "      background-color: #3B4455;\n",
              "      fill: #D2E3FC;\n",
              "    }\n",
              "\n",
              "    [theme=dark] .colab-df-convert:hover {\n",
              "      background-color: #434B5C;\n",
              "      box-shadow: 0px 1px 3px 1px rgba(0, 0, 0, 0.15);\n",
              "      filter: drop-shadow(0px 1px 2px rgba(0, 0, 0, 0.3));\n",
              "      fill: #FFFFFF;\n",
              "    }\n",
              "  </style>\n",
              "\n",
              "      <script>\n",
              "        const buttonEl =\n",
              "          document.querySelector('#df-e90a345f-c71f-4dd5-a5ac-b83eda9d3113 button.colab-df-convert');\n",
              "        buttonEl.style.display =\n",
              "          google.colab.kernel.accessAllowed ? 'block' : 'none';\n",
              "\n",
              "        async function convertToInteractive(key) {\n",
              "          const element = document.querySelector('#df-e90a345f-c71f-4dd5-a5ac-b83eda9d3113');\n",
              "          const dataTable =\n",
              "            await google.colab.kernel.invokeFunction('convertToInteractive',\n",
              "                                                     [key], {});\n",
              "          if (!dataTable) return;\n",
              "\n",
              "          const docLinkHtml = 'Like what you see? Visit the ' +\n",
              "            '<a target=\"_blank\" href=https://colab.research.google.com/notebooks/data_table.ipynb>data table notebook</a>'\n",
              "            + ' to learn more about interactive tables.';\n",
              "          element.innerHTML = '';\n",
              "          dataTable['output_type'] = 'display_data';\n",
              "          await google.colab.output.renderOutput(dataTable, element);\n",
              "          const docLink = document.createElement('div');\n",
              "          docLink.innerHTML = docLinkHtml;\n",
              "          element.appendChild(docLink);\n",
              "        }\n",
              "      </script>\n",
              "    </div>\n",
              "  </div>\n",
              "  "
            ],
            "text/plain": [
              "                     Model  Train Accuracy  Test Accuracy\n",
              "0  Algoritma Decision Tree        0.890855       0.637168"
            ]
          },
          "execution_count": 47,
          "metadata": {},
          "output_type": "execute_result"
        }
      ],
      "source": [
        "hasil = hasil.append(pd.Series({'Model':'Algoritma Decision Tree','Train Accuracy':dt_train_accuracy, 'Test Accuracy':dt_test_accuracy}), ignore_index=True)\n",
        "hasil"
      ]
    },
    {
      "cell_type": "markdown",
      "metadata": {
        "id": "uUM45orcLJOs"
      },
      "source": [
        "Selanjutnya, untuk modelling menggunakan **algoritma kNN**"
      ]
    },
    {
      "cell_type": "code",
      "execution_count": 48,
      "metadata": {
        "id": "ZkTz7-ZYLRsU"
      },
      "outputs": [],
      "source": [
        "knn = KNeighborsClassifier()\n",
        "knn.fit(X_train, y_train)\n",
        "y_prediction = knn.predict(X_test)"
      ]
    },
    {
      "cell_type": "markdown",
      "metadata": {
        "id": "jJXxufDjLiEH"
      },
      "source": [
        "Selanjutnya, dilakukan penghitungan akurasi dan juga nilai recallnya, alasan untuk melakukan cara ini sama dengan sebelumnya."
      ]
    },
    {
      "cell_type": "code",
      "execution_count": 49,
      "metadata": {
        "id": "L-QqoFDmLyeG"
      },
      "outputs": [],
      "source": [
        "knn_train_recall = recall_score(y_train, knn.predict(X_train), average=\"weighted\")\n",
        "knn_test_recall = recall_score(y_test, knn.predict(X_test), average=\"weighted\")\n",
        "knn_train_accuracy = accuracy_score(y_train, knn.predict(X_train))\n",
        "knn_test_accuracy = accuracy_score(y_test, knn.predict(X_test))"
      ]
    },
    {
      "cell_type": "markdown",
      "metadata": {
        "id": "LcTWIsvfMYoz"
      },
      "source": [
        "Mengecek nilai recall terhadap train dan data"
      ]
    },
    {
      "cell_type": "code",
      "execution_count": 50,
      "metadata": {
        "colab": {
          "base_uri": "https://localhost:8080/"
        },
        "id": "Rl1eZGnVMXKa",
        "outputId": "01638ffb-ace7-4219-cf66-aa61afb77203"
      },
      "outputs": [
        {
          "name": "stdout",
          "output_type": "stream",
          "text": [
            "Nilai train recall = 0.6607669616519174\n",
            "Nilai test recall = 0.6283185840707964\n"
          ]
        },
        {
          "data": {
            "text/plain": [
              "array([[56,  0,  2,  0,  1,  0,  0,  0,  2,  0,  0,  1],\n",
              "       [ 5,  2,  0,  0,  0,  0,  0,  1,  1,  1,  0,  0],\n",
              "       [ 2,  0,  4,  0,  0,  1,  0,  0,  0,  0,  0,  0],\n",
              "       [ 0,  0,  0,  1,  0,  0,  0,  0,  0,  0,  0,  0],\n",
              "       [ 2,  0,  0,  0,  1,  0,  0,  0,  0,  0,  0,  0],\n",
              "       [ 4,  0,  0,  0,  0,  0,  0,  0,  0,  0,  0,  0],\n",
              "       [ 1,  0,  0,  0,  0,  0,  0,  0,  0,  0,  0,  0],\n",
              "       [ 1,  0,  0,  0,  0,  0,  0,  2,  0,  0,  0,  1],\n",
              "       [ 5,  1,  0,  0,  0,  0,  0,  0,  6,  0,  0,  1],\n",
              "       [ 1,  0,  0,  0,  1,  0,  0,  0,  0,  0,  0,  0],\n",
              "       [ 0,  0,  0,  0,  0,  0,  0,  0,  0,  0,  0,  0],\n",
              "       [ 3,  1,  1,  0,  0,  0,  0,  0,  0,  0,  1,  0]])"
            ]
          },
          "execution_count": 50,
          "metadata": {},
          "output_type": "execute_result"
        }
      ],
      "source": [
        "print('Nilai train recall = {}'.format(knn_train_recall))\n",
        "print('Nilai test recall = {}'.format(knn_test_recall))\n",
        "confusion_matrix(y_test, y_prediction_test)"
      ]
    },
    {
      "cell_type": "markdown",
      "metadata": {
        "id": "ZwTshOmHM7i9"
      },
      "source": [
        "Ditambahkan kedalam hasil untuk dibandingkan (perbandingan terakhir)"
      ]
    },
    {
      "cell_type": "code",
      "execution_count": 51,
      "metadata": {
        "colab": {
          "base_uri": "https://localhost:8080/",
          "height": 112
        },
        "id": "S1gIqQO1NAgS",
        "outputId": "34a8b19a-6d11-4678-c3a6-2b113956622b"
      },
      "outputs": [
        {
          "data": {
            "text/html": [
              "\n",
              "  <div id=\"df-439c9056-a8ea-4ca1-88e4-836caa8080f6\">\n",
              "    <div class=\"colab-df-container\">\n",
              "      <div>\n",
              "<style scoped>\n",
              "    .dataframe tbody tr th:only-of-type {\n",
              "        vertical-align: middle;\n",
              "    }\n",
              "\n",
              "    .dataframe tbody tr th {\n",
              "        vertical-align: top;\n",
              "    }\n",
              "\n",
              "    .dataframe thead th {\n",
              "        text-align: right;\n",
              "    }\n",
              "</style>\n",
              "<table border=\"1\" class=\"dataframe\">\n",
              "  <thead>\n",
              "    <tr style=\"text-align: right;\">\n",
              "      <th></th>\n",
              "      <th>Model</th>\n",
              "      <th>Train Accuracy</th>\n",
              "      <th>Test Accuracy</th>\n",
              "    </tr>\n",
              "  </thead>\n",
              "  <tbody>\n",
              "    <tr>\n",
              "      <th>0</th>\n",
              "      <td>Algoritma Decision Tree</td>\n",
              "      <td>0.890855</td>\n",
              "      <td>0.637168</td>\n",
              "    </tr>\n",
              "    <tr>\n",
              "      <th>1</th>\n",
              "      <td>Algoritma k-NearestNeighbor</td>\n",
              "      <td>0.660767</td>\n",
              "      <td>0.628319</td>\n",
              "    </tr>\n",
              "  </tbody>\n",
              "</table>\n",
              "</div>\n",
              "      <button class=\"colab-df-convert\" onclick=\"convertToInteractive('df-439c9056-a8ea-4ca1-88e4-836caa8080f6')\"\n",
              "              title=\"Convert this dataframe to an interactive table.\"\n",
              "              style=\"display:none;\">\n",
              "        \n",
              "  <svg xmlns=\"http://www.w3.org/2000/svg\" height=\"24px\"viewBox=\"0 0 24 24\"\n",
              "       width=\"24px\">\n",
              "    <path d=\"M0 0h24v24H0V0z\" fill=\"none\"/>\n",
              "    <path d=\"M18.56 5.44l.94 2.06.94-2.06 2.06-.94-2.06-.94-.94-2.06-.94 2.06-2.06.94zm-11 1L8.5 8.5l.94-2.06 2.06-.94-2.06-.94L8.5 2.5l-.94 2.06-2.06.94zm10 10l.94 2.06.94-2.06 2.06-.94-2.06-.94-.94-2.06-.94 2.06-2.06.94z\"/><path d=\"M17.41 7.96l-1.37-1.37c-.4-.4-.92-.59-1.43-.59-.52 0-1.04.2-1.43.59L10.3 9.45l-7.72 7.72c-.78.78-.78 2.05 0 2.83L4 21.41c.39.39.9.59 1.41.59.51 0 1.02-.2 1.41-.59l7.78-7.78 2.81-2.81c.8-.78.8-2.07 0-2.86zM5.41 20L4 18.59l7.72-7.72 1.47 1.35L5.41 20z\"/>\n",
              "  </svg>\n",
              "      </button>\n",
              "      \n",
              "  <style>\n",
              "    .colab-df-container {\n",
              "      display:flex;\n",
              "      flex-wrap:wrap;\n",
              "      gap: 12px;\n",
              "    }\n",
              "\n",
              "    .colab-df-convert {\n",
              "      background-color: #E8F0FE;\n",
              "      border: none;\n",
              "      border-radius: 50%;\n",
              "      cursor: pointer;\n",
              "      display: none;\n",
              "      fill: #1967D2;\n",
              "      height: 32px;\n",
              "      padding: 0 0 0 0;\n",
              "      width: 32px;\n",
              "    }\n",
              "\n",
              "    .colab-df-convert:hover {\n",
              "      background-color: #E2EBFA;\n",
              "      box-shadow: 0px 1px 2px rgba(60, 64, 67, 0.3), 0px 1px 3px 1px rgba(60, 64, 67, 0.15);\n",
              "      fill: #174EA6;\n",
              "    }\n",
              "\n",
              "    [theme=dark] .colab-df-convert {\n",
              "      background-color: #3B4455;\n",
              "      fill: #D2E3FC;\n",
              "    }\n",
              "\n",
              "    [theme=dark] .colab-df-convert:hover {\n",
              "      background-color: #434B5C;\n",
              "      box-shadow: 0px 1px 3px 1px rgba(0, 0, 0, 0.15);\n",
              "      filter: drop-shadow(0px 1px 2px rgba(0, 0, 0, 0.3));\n",
              "      fill: #FFFFFF;\n",
              "    }\n",
              "  </style>\n",
              "\n",
              "      <script>\n",
              "        const buttonEl =\n",
              "          document.querySelector('#df-439c9056-a8ea-4ca1-88e4-836caa8080f6 button.colab-df-convert');\n",
              "        buttonEl.style.display =\n",
              "          google.colab.kernel.accessAllowed ? 'block' : 'none';\n",
              "\n",
              "        async function convertToInteractive(key) {\n",
              "          const element = document.querySelector('#df-439c9056-a8ea-4ca1-88e4-836caa8080f6');\n",
              "          const dataTable =\n",
              "            await google.colab.kernel.invokeFunction('convertToInteractive',\n",
              "                                                     [key], {});\n",
              "          if (!dataTable) return;\n",
              "\n",
              "          const docLinkHtml = 'Like what you see? Visit the ' +\n",
              "            '<a target=\"_blank\" href=https://colab.research.google.com/notebooks/data_table.ipynb>data table notebook</a>'\n",
              "            + ' to learn more about interactive tables.';\n",
              "          element.innerHTML = '';\n",
              "          dataTable['output_type'] = 'display_data';\n",
              "          await google.colab.output.renderOutput(dataTable, element);\n",
              "          const docLink = document.createElement('div');\n",
              "          docLink.innerHTML = docLinkHtml;\n",
              "          element.appendChild(docLink);\n",
              "        }\n",
              "      </script>\n",
              "    </div>\n",
              "  </div>\n",
              "  "
            ],
            "text/plain": [
              "                         Model  Train Accuracy  Test Accuracy\n",
              "0      Algoritma Decision Tree        0.890855       0.637168\n",
              "1  Algoritma k-NearestNeighbor        0.660767       0.628319"
            ]
          },
          "execution_count": 51,
          "metadata": {},
          "output_type": "execute_result"
        }
      ],
      "source": [
        "hasil = hasil.append(pd.Series({'Model':'Algoritma k-NearestNeighbor','Train Accuracy':knn_train_accuracy, 'Test Accuracy':knn_test_accuracy}), ignore_index=True)\n",
        "hasil"
      ]
    },
    {
      "cell_type": "markdown",
      "metadata": {
        "id": "Ib_fHFLmNKPX"
      },
      "source": [
        "# **Kesimpulan**"
      ]
    },
    {
      "cell_type": "markdown",
      "metadata": {
        "id": "k2I6UAm8NOj6"
      },
      "source": [
        "Dengan dilakukannya modeling dengan algoritma DT dan juga kNN, dapat dilihat bahwa dalam konteks nilai recall sebagai pembanding, algoritma Decision Tree(DT) lebih baik dengan nilai akurasinya mencapai **63.71%**, dan algoritma kNN memiliki akurasi **62.83%**, perbandingan yang sangat tipis mengingat untuk algoritma DT dibuat hingga kedalaman 7 untuk keunikan data yang beragam."
      ]
    }
  ],
  "metadata": {
    "colab": {
      "provenance": []
    },
    "kernelspec": {
      "display_name": "Python 3",
      "name": "python3"
    },
    "language_info": {
      "name": "python"
    }
  },
  "nbformat": 4,
  "nbformat_minor": 0
}
